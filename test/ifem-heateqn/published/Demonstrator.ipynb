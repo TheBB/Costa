{
 "cells": [
  {
   "cell_type": "markdown",
   "metadata": {},
   "source": [
    "# How to start using CoSTA framework"
   ]
  },
  {
   "cell_type": "markdown",
   "metadata": {},
   "source": [
    "## The basics"
   ]
  },
  {
   "cell_type": "code",
   "execution_count": 3,
   "metadata": {},
   "outputs": [],
   "source": [
    "%matplotlib inline"
   ]
  },
  {
   "cell_type": "code",
   "execution_count": 2,
   "metadata": {},
   "outputs": [],
   "source": [
    "import IFEM_CoSTA\n",
    "\n",
    "pbm = IFEM_CoSTA.HeatEquation(f'P4/P4.xinp', verbose=False)\n",
    "mu  = {'dt':0.001, 't':0.0, 'ALPHA':0.7}\n",
    "uh  = pbm.anasol(mu)['primary']\n",
    "\n",
    "for n in range(5000):\n",
    "    uh = pbm.predict(mu, uh)\n",
    "    "
   ]
  },
  {
   "cell_type": "code",
   "execution_count": 6,
   "metadata": {},
   "outputs": [
    {
     "name": "stdout",
     "output_type": "stream",
     "text": [
      "<?xml version=\"1.0\" encoding=\"UTF-8\" standalone=\"no\"?>\n",
      "\n",
      "<simulation>\n",
      "\n",
      "  <geometry dim=\"1\" sets=\"true\">\n",
      "  <!--\n",
      "    <raiseorder patch=\"1\" u=\"1\"/>\n",
      "  -->\n",
      "    <refine type=\"uniform\" patch=\"1\" u=\"18\"/>\n",
      "  </geometry>\n",
      "\n",
      "  <heatequation>\n",
      "    <boundaryconditions>\n",
      "      <dirichlet set=\"Boundary\" comp=\"1\" type=\"anasol\"/>\n",
      "    </boundaryconditions>\n",
      "    <source type=\"expression\">-2*PI*(cos(2*PI*t+ALPHA)+2*PI*sin(2*PI*t+ALPHA))*cos(2*PI*x)</source>\n",
      "    <anasol type=\"expression\">\n",
      "      <primary>1 + sin(2*PI*t + ALPHA)*cos(2*PI*x)</primary>\n",
      "      <secondary>2*PI*sin(2*PI*t+ALPHA)*sin(2*PI*x)</secondary>\n",
      "    </anasol>\n",
      "  </heatequation>\n",
      "\n",
      "  <timestepping start=\"0.0\" end=\"5.0\" dt=\"0.001\" type=\"be\"/>\n",
      "\n",
      "</simulation>\n",
      "\n"
     ]
    }
   ],
   "source": [
    "with open('P4/P4.xinp') as myfile:\n",
    "    print(myfile.read())"
   ]
  },
  {
   "cell_type": "markdown",
   "metadata": {},
   "source": [
    "Assume model toy problem\n",
    "$$ u_t - u_{xx} = f(x,t) $$\n",
    "\n",
    "The exact solution is given by\n",
    "$$ u = 1+\\sin(2\\pi t + \\alpha)\\cos(2\\pi x) $$\n",
    "With corresponding source term\n",
    "$$ f = -2\\pi \\left(\\cos(2\\pi t + \\alpha)+2\\pi \\sin(2\\pi t + \\alpha)\\right)\\cos(2\\pi x) $$\n"
   ]
  },
  {
   "cell_type": "code",
   "execution_count": 7,
   "metadata": {},
   "outputs": [
    {
     "data": {
      "image/png": "[encoded data removed]",
      "text/plain": [
       "<Figure size 432x288 with 1 Axes>"
      ]
     },
     "metadata": {},
     "output_type": "display_data"
    }
   ],
   "source": [
    "import matplotlib.pyplot as plt\n",
    "\n",
    "plt.plot(uh)\n",
    "plt.title('Solution at t=5.0')\n",
    "plt.show()"
   ]
  },
  {
   "cell_type": "code",
   "execution_count": 8,
   "metadata": {},
   "outputs": [],
   "source": [
    "pbm   = IFEM_CoSTA.HeatEquation(f'P4/pbm.xinp', verbose=False) # missing source term f\n",
    "exact = IFEM_CoSTA.HeatEquation(f'P4/P4.xinp',  verbose=False)\n",
    "mu  = {'dt':0.001, 't':0.0, 'ALPHA':0.7}\n",
    "uh  = pbm.anasol(mu)['primary']\n",
    "\n",
    "for n in range(5000):\n",
    "    u_n      = exact.anasol(mu)['primary'] # u_{n}   exact\n",
    "    mu['t'] += mu['dt']\n",
    "    u_np1    = exact.anasol(mu)['primary'] # u_{n+1} exact\n",
    "    uh       = pbm.predict(mu, u_n)        # u_{n+1} approximated\n",
    "    sigma    = pbm.residual(mu, u_n, u_np1)# sigma   exact"
   ]
  },
  {
   "cell_type": "markdown",
   "metadata": {},
   "source": [
    "Assume we try and approximate \n",
    "$$ u_t - u_{xx} = f(x,t) $$\n",
    "i.e.\n",
    "$$ \\mathcal{N} u = f $$\n",
    "using an approximation\n",
    "$$ \\tilde{\\mathcal{N}} \\tilde{u} = \\tilde{f} $$\n",
    "Then we can always recover the exact solution, by choising a suitable source correction term $\\sigma$\n",
    "$$ \\tilde{\\mathcal{N}} u = \\tilde{f} +\\sigma $$"
   ]
  },
  {
   "cell_type": "markdown",
   "metadata": {},
   "source": [
    "In this case $\\tilde{\\mathcal{N}}$ is the FEM discretization in space and backward euler in time and\n",
    "$$\\tilde{f} = 0$$\n",
    "i.e. we assume that we have inadequate physics description.\n",
    "\n",
    "We now want a datadriven model to map the residual $\\tilde{\\mathcal{N}} \\tilde{u} - \\tilde{f}$ to $\\sigma$, i.e. `uh` to `sigma` in the code above"
   ]
  },
  {
   "cell_type": "markdown",
   "metadata": {},
   "source": [
    "## Creating the data"
   ]
  },
  {
   "cell_type": "code",
   "execution_count": 13,
   "metadata": {},
   "outputs": [],
   "source": [
    "import numpy as np\n",
    "\n",
    "pbm   = IFEM_CoSTA.HeatEquation(f'P4/pbm.xinp', verbose=False) # missing source term f\n",
    "exact = IFEM_CoSTA.HeatEquation(f'P4/P4.xinp',  verbose=False)\n",
    "mu  = {'dt':0.001, 't':0.0, 'ALPHA':0.7}\n",
    "\n",
    "# storage matrices for mapping X to Y\n",
    "X = np.zeros((5000,20)) # 5000 timesteps, 20 degrees of freedom\n",
    "Y = np.zeros((5000,20))\n",
    "\n",
    "for n in range(5000):\n",
    "    u_n      = exact.anasol(mu)['primary'] # u_{n}   exact\n",
    "    mu['t'] += mu['dt']\n",
    "    u_np1    = exact.anasol(mu)['primary'] # u_{n+1} exact\n",
    "    uh       = pbm.predict(mu, u_n)        # u_{n+1} approximated\n",
    "    sigma    = pbm.residual(mu, u_n, u_np1)# sigma   exact\n",
    "    \n",
    "    X[n,:]   = uh\n",
    "    Y[n,:]   = sigma"
   ]
  },
  {
   "cell_type": "markdown",
   "metadata": {},
   "source": [
    "### Plot the results just to see what we're working with\n",
    "This is just for our own curiosity"
   ]
  },
  {
   "cell_type": "code",
   "execution_count": 31,
   "metadata": {},
   "outputs": [
    {
     "data": {
      "image/png": "[encoded data removed]",
      "text/plain": [
       "<Figure size 432x288 with 1 Axes>"
      ]
     },
     "metadata": {},
     "output_type": "display_data"
    }
   ],
   "source": [
    "plt.plot(X[1,:],    'r-', alpha=0.05)\n",
    "plt.plot(X[5,:],    'r-', alpha=0.08)\n",
    "plt.plot(X[10,:],   'r-', alpha=0.10)\n",
    "plt.plot(X[100,:],  'r-', alpha=0.15)\n",
    "plt.plot(X[300,:],  'r-', alpha=0.20)\n",
    "plt.plot(X[500,:],  'r-', alpha=0.25)\n",
    "plt.plot(X[1000,:], 'r-', alpha=0.30)\n",
    "plt.plot(X[2500,:], 'r-', alpha=0.40)\n",
    "plt.plot(X[4999,:], 'r-', alpha=0.99)\n",
    "plt.show()"
   ]
  },
  {
   "cell_type": "markdown",
   "metadata": {},
   "source": [
    "## Build a data drive model\n",
    "Using your favorite machine learning framework"
   ]
  },
  {
   "cell_type": "code",
   "execution_count": 40,
   "metadata": {},
   "outputs": [],
   "source": [
    "from keras.models import Sequential\n",
    "from keras.layers import Dense, LeakyReLU\n",
    "from keras.optimizers import Adam\n",
    "\n",
    "\n",
    "ham = Sequential()\n",
    "ham.add(Dense(20,))\n",
    "ham.add(Dense(80,activation='relu'))\n",
    "ham.add(Dense(80,activation='relu'))\n",
    "ham.add(Dense(80,activation='relu'))\n",
    "ham.add(Dense(20,))\n",
    "\n",
    "ham.compile(optimizer='adam', loss='mean_squared_error', metrics=['mae', 'mse'])\n"
   ]
  },
  {
   "cell_type": "code",
   "execution_count": 41,
   "metadata": {},
   "outputs": [
    {
     "name": "stdout",
     "output_type": "stream",
     "text": [
      "Epoch 1/10\n",
      "5000/5000 [==============================] - 0s 81us/step - loss: 0.1264 - mean_absolute_error: 0.2151 - mean_squared_error: 0.1264\n",
      "Epoch 2/10\n",
      "5000/5000 [==============================] - 0s 41us/step - loss: 0.0259 - mean_absolute_error: 0.1227 - mean_squared_error: 0.0259\n",
      "Epoch 3/10\n",
      "5000/5000 [==============================] - 0s 45us/step - loss: 0.0262 - mean_absolute_error: 0.1228 - mean_squared_error: 0.0262\n",
      "Epoch 4/10\n",
      "5000/5000 [==============================] - 0s 45us/step - loss: 0.0257 - mean_absolute_error: 0.1220 - mean_squared_error: 0.0257\n",
      "Epoch 5/10\n",
      "5000/5000 [==============================] - 0s 39us/step - loss: 0.0255 - mean_absolute_error: 0.1222 - mean_squared_error: 0.0255\n",
      "Epoch 6/10\n",
      "5000/5000 [==============================] - 0s 39us/step - loss: 0.0257 - mean_absolute_error: 0.1220 - mean_squared_error: 0.0257\n",
      "Epoch 7/10\n",
      "5000/5000 [==============================] - 0s 40us/step - loss: 0.0260 - mean_absolute_error: 0.1229 - mean_squared_error: 0.0260\n",
      "Epoch 8/10\n",
      "5000/5000 [==============================] - 0s 38us/step - loss: 0.0262 - mean_absolute_error: 0.1232 - mean_squared_error: 0.0262\n",
      "Epoch 9/10\n",
      "5000/5000 [==============================] - 0s 39us/step - loss: 0.0252 - mean_absolute_error: 0.1212 - mean_squared_error: 0.0252\n",
      "Epoch 10/10\n",
      "5000/5000 [==============================] - 0s 38us/step - loss: 0.0252 - mean_absolute_error: 0.1212 - mean_squared_error: 0.0252\n"
     ]
    },
    {
     "data": {
      "text/plain": [
       "<keras.callbacks.History at 0x7f6dec45cf28>"
      ]
     },
     "execution_count": 41,
     "metadata": {},
     "output_type": "execute_result"
    }
   ],
   "source": [
    "ham.fit(X,Y, batch_size=32, epochs=10)"
   ]
  },
  {
   "cell_type": "markdown",
   "metadata": {},
   "source": [
    "# Using the datadriven model\n"
   ]
  },
  {
   "cell_type": "code",
   "execution_count": 46,
   "metadata": {},
   "outputs": [],
   "source": [
    "pbm   = IFEM_CoSTA.HeatEquation(f'P4/pbm.xinp', verbose=False) # contains inadequate physics\n",
    "# exact = IFEM_CoSTA.HeatEquation(f'P4/P4.xinp',  verbose=False)\n",
    "mu  = {'dt':0.001, 't':0.0, 'ALPHA':0.7}\n",
    "u_n  = pbm.initial_condition(mu)\n",
    "\n",
    "for n in range(5000):\n",
    "    mu['t'] += mu['dt']\n",
    "    u_pred = pbm.predict(mu, u_n)                             # solve A*u_{n+1} = b(u_{n})\n",
    "    sigma  = ham.predict(np.array(u_pred, ndmin=2)).flatten() # compute sigma(u_{n+1})\n",
    "    u_n    = pbm.correct(mu, u_n, sigma)                      # solve A*u_{n+1} = b(u_{n})+sigma"
   ]
  },
  {
   "cell_type": "markdown",
   "metadata": {},
   "source": [
    "# Some initial results and experimentations\n",
    "\n",
    "Train model on $alpha \\in [0,2]$. Test two unseen $\\alpha$ values in the interior of the sampling domain and two outside. Comparing three models\n",
    "* PBM: Physics-Based Model: with inadequate physics description (here: missing right-hand side source term)\n",
    "* HAM: Hybrid Analysis and Modelling: described above\n",
    "* DDM: Data-Driven Method: Pure datadriven, trying to predict $F(T_{n}) = T_{n+1}$\n",
    "\n",
    "### Interpolating $\\alpha$\n",
    "<img src=P4/test/P4_final_sol_a7.png>\n",
    "<img src=P4/test/P4_final_sol_a15.png>\n",
    "\n",
    "### Extrapolating $\\alpha$\n",
    "<img src=P4/test/P4_final_sol_a-5.png>\n",
    "<img src=P4/test/P4_final_sol_a25.png>"
   ]
  },
  {
   "cell_type": "markdown",
   "metadata": {},
   "source": [
    "# Plotting the error as a function of time\n",
    "\n",
    "### Interpolating $\\alpha$\n",
    "<img src=P4/test/P4_error_a7.png>\n",
    "<img src=P4/test/P4_error_a15.png>\n",
    "\n",
    "### Extrapolating $\\alpha$\n",
    "<img src=P4/test/P4_error_a-5.png>\n",
    "<img src=P4/test/P4_error_a25.png>"
   ]
  },
  {
   "cell_type": "markdown",
   "metadata": {},
   "source": [
    "# Unknown material coefficient\n",
    "\n",
    "For this example we use inadequate heat conductivity, which means that the system matrix in $Au=b$ are wrong. The previous example had wrong $b(\\cdot)$-formulation, while this example has wrong $A(\\cdot,\\cdot)$-formulation.\n",
    "\n",
    "In particular we solve\n",
    "$$ u_t - (\\kappa u_x)_x = f(x,t) $$\n",
    "with\n",
    "$$\\kappa = 5-\\frac{\\alpha x}{1+t}$$\n",
    "unknown to the physics-based model"
   ]
  },
  {
   "cell_type": "markdown",
   "metadata": {},
   "source": [
    "### Interpolating $\\alpha$\n",
    "<img src=k2/test/k2_final_sol_a7.png>\n",
    "\n",
    "### Extrapolating $\\alpha$\n",
    "<img src=k2/test/k2_final_sol_a-5.png>"
   ]
  },
  {
   "cell_type": "markdown",
   "metadata": {},
   "source": [
    "## Error plots\n",
    "### Interpolating $\\alpha$\n",
    "<img src=k2/test/k2_error_a7.png>\n",
    "<img src=k2/test/k2_error_a15.png>\n",
    "\n",
    "### Extrapolating $\\alpha$\n",
    "<img src=k2/test/k2_error_a-5.png>\n",
    "<img src=k2/test/k2_error_a25.png>"
   ]
  }
 ],
 "metadata": {
  "kernelspec": {
   "display_name": "Python 3",
   "language": "python",
   "name": "python3"
  },
  "language_info": {
   "codemirror_mode": {
    "name": "ipython",
    "version": 3
   },
   "file_extension": ".py",
   "mimetype": "text/x-python",
   "name": "python",
   "nbconvert_exporter": "python",
   "pygments_lexer": "ipython3",
   "version": "3.6.9"
  }
 },
 "nbformat": 4,
 "nbformat_minor": 2
}
