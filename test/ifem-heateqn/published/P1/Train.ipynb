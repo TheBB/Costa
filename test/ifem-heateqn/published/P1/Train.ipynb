{
 "cells": [
  {
   "cell_type": "code",
   "execution_count": 1,
   "metadata": {},
   "outputs": [],
   "source": [
    "%matplotlib inline"
   ]
  },
  {
   "cell_type": "code",
   "execution_count": 3,
   "metadata": {},
   "outputs": [],
   "source": [
    "from keras.models import Sequential\n",
    "from keras.layers import Dense, LeakyReLU\n",
    "from keras.optimizers import Adam\n",
    "from keras.callbacks import EarlyStopping \n",
    "import numpy as np\n",
    "import matplotlib.pyplot as plt"
   ]
  },
  {
   "cell_type": "markdown",
   "metadata": {},
   "source": [
    "# Create the model"
   ]
  },
  {
   "cell_type": "code",
   "execution_count": 6,
   "metadata": {},
   "outputs": [],
   "source": [
    "def make_model(): # create multiple identical models for comparison purposes\n",
    "    model = Sequential()\n",
    "    model.add(Dense(20,))\n",
    "    for hidden_layers in range(4):\n",
    "        model.add(Dense(80,))\n",
    "        model.add(LeakyReLU(0.01))\n",
    "    model.add(Dense(20,))\n",
    "\n",
    "    opt = Adam(lr=1e-5)\n",
    "    model.compile(optimizer=opt, loss='mean_squared_error', metrics=['mae', 'mse'])\n",
    "    return model\n",
    "\n",
    "\n",
    "ham = make_model()\n",
    "ddm = make_model()\n",
    "\n",
    "\n",
    "# Read the training data\n",
    "X  = np.load('train/X.npy')\n",
    "Y  = np.load('train/Y.npy')\n",
    "Z  = np.load('train/Z.npy')\n",
    "Xv = np.load('validation/X.npy')\n",
    "Yv = np.load('validation/Y.npy')\n",
    "Zv = np.load('validation/Z.npy')"
   ]
  },
  {
   "cell_type": "code",
   "execution_count": null,
   "metadata": {},
   "outputs": [],
   "source": [
    "# don't predict boundary conditions\n",
    "Y  =  Y[:,1:-1]\n",
    "Yv = Yv[:,1:-1]\n",
    "\n",
    "# fixup the ddm method so it predicts T_{n+1} from T_{n}, but don't map from the end of one\n",
    "# time  series to the start of the next one (with different alpha value)\n",
    "Xddm = X\n",
    "Yddm = X\n",
    "Yddm = Yddm[:,1:-1] # drop boundary conditions\n",
    "Xddm = np.delete(Xddm, np.arange(5000, 5001*16, 5001), axis=0) # drop the endpoint of time series\n",
    "Yddm = np.delete(Yddm, np.arange(   0, 5001*16, 5001), axis=0) # drop the startpoint of time series\n",
    "\n",
    "# repeat for validation data to be used in ddm\n",
    "Xddm_v = Xv\n",
    "Yddm_v = Xv\n",
    "Yddm_v = Yddm_v[:,1:-1] # drop boundary conditions\n",
    "Xddm_v = np.delete(Xddm_v, np.arange(5000, 5001*16, 5001), axis=0) # drop the endpoint of time series\n",
    "Yddm_v = np.delete(Yddm_v, np.arange(   0, 5001*16, 5001), axis=0) # drop the startpoint of time series\n"
   ]
  },
  {
   "cell_type": "code",
   "execution_count": 7,
   "metadata": {},
   "outputs": [
    {
     "name": "stdout",
     "output_type": "stream",
     "text": [
      "(80000, 20)\n",
      "(10000, 20)\n",
      "(80000, 20)\n"
     ]
    },
    {
     "ename": "NameError",
     "evalue": "name 'Xddm' is not defined",
     "output_type": "error",
     "traceback": [
      "\u001b[0;31m---------------------------------------------------------------------------\u001b[0m",
      "\u001b[0;31mNameError\u001b[0m                                 Traceback (most recent call last)",
      "\u001b[0;32m<ipython-input-7-755b1874c1bf>\u001b[0m in \u001b[0;36m<module>\u001b[0;34m\u001b[0m\n\u001b[1;32m      2\u001b[0m \u001b[0mprint\u001b[0m\u001b[0;34m(\u001b[0m\u001b[0mXv\u001b[0m\u001b[0;34m.\u001b[0m\u001b[0mshape\u001b[0m\u001b[0;34m)\u001b[0m\u001b[0;34m\u001b[0m\u001b[0;34m\u001b[0m\u001b[0m\n\u001b[1;32m      3\u001b[0m \u001b[0mprint\u001b[0m\u001b[0;34m(\u001b[0m\u001b[0mY\u001b[0m\u001b[0;34m.\u001b[0m\u001b[0mshape\u001b[0m\u001b[0;34m)\u001b[0m\u001b[0;34m\u001b[0m\u001b[0;34m\u001b[0m\u001b[0m\n\u001b[0;32m----> 4\u001b[0;31m \u001b[0mprint\u001b[0m\u001b[0;34m(\u001b[0m\u001b[0mXddm\u001b[0m\u001b[0;34m.\u001b[0m\u001b[0mshape\u001b[0m\u001b[0;34m)\u001b[0m\u001b[0;34m\u001b[0m\u001b[0;34m\u001b[0m\u001b[0m\n\u001b[0m\u001b[1;32m      5\u001b[0m \u001b[0mprint\u001b[0m\u001b[0;34m(\u001b[0m\u001b[0mYddm\u001b[0m\u001b[0;34m.\u001b[0m\u001b[0mshape\u001b[0m\u001b[0;34m)\u001b[0m\u001b[0;34m\u001b[0m\u001b[0;34m\u001b[0m\u001b[0m\n",
      "\u001b[0;31mNameError\u001b[0m: name 'Xddm' is not defined"
     ]
    }
   ],
   "source": [
    "print(X.shape)\n",
    "print(Xv.shape)\n",
    "print(Y.shape)\n",
    "print(Xddm.shape)\n",
    "print(Yddm.shape)"
   ]
  },
  {
   "cell_type": "markdown",
   "metadata": {},
   "source": [
    "# Train the model"
   ]
  },
  {
   "cell_type": "code",
   "execution_count": 8,
   "metadata": {},
   "outputs": [
    {
     "name": "stdout",
     "output_type": "stream",
     "text": [
      "Train on 80000 samples, validate on 10000 samples\n",
      "Epoch 1/100\n",
      "80000/80000 [==============================] - 4s 50us/step - loss: 0.0178 - mean_absolute_error: 0.0575 - mean_squared_error: 0.0178 - val_loss: 1.1650e-04 - val_mean_absolute_error: 0.0086 - val_mean_squared_error: 1.1650e-04\n",
      "Epoch 2/100\n",
      "80000/80000 [==============================] - 4s 47us/step - loss: 3.9269e-04 - mean_absolute_error: 0.0155 - mean_squared_error: 3.9269e-04 - val_loss: 5.0947e-05 - val_mean_absolute_error: 0.0053 - val_mean_squared_error: 5.0947e-05\n",
      "Epoch 3/100\n",
      "80000/80000 [==============================] - 4s 48us/step - loss: 8.5891e-05 - mean_absolute_error: 0.0065 - mean_squared_error: 8.5891e-05 - val_loss: 1.1341e-05 - val_mean_absolute_error: 0.0025 - val_mean_squared_error: 1.1341e-05\n",
      "Epoch 4/100\n",
      "80000/80000 [==============================] - 4s 46us/step - loss: 1.1600e-05 - mean_absolute_error: 0.0019 - mean_squared_error: 1.1600e-05 - val_loss: 1.9293e-06 - val_mean_absolute_error: 7.3806e-04 - val_mean_squared_error: 1.9293e-06\n",
      "Epoch 5/100\n",
      "80000/80000 [==============================] - 4s 45us/step - loss: 3.4344e-06 - mean_absolute_error: 6.7631e-04 - mean_squared_error: 3.4344e-06 - val_loss: 8.4768e-07 - val_mean_absolute_error: 3.3460e-04 - val_mean_squared_error: 8.4768e-07\n",
      "Epoch 6/100\n",
      "80000/80000 [==============================] - 4s 45us/step - loss: 1.2685e-06 - mean_absolute_error: 3.3649e-04 - mean_squared_error: 1.2685e-06 - val_loss: 4.6962e-07 - val_mean_absolute_error: 2.9945e-04 - val_mean_squared_error: 4.6962e-07\n",
      "Epoch 7/100\n",
      "80000/80000 [==============================] - 4s 52us/step - loss: 6.0970e-07 - mean_absolute_error: 2.2970e-04 - mean_squared_error: 6.0970e-07 - val_loss: 2.9914e-07 - val_mean_absolute_error: 1.6655e-04 - val_mean_squared_error: 2.9914e-07\n",
      "Epoch 8/100\n",
      "80000/80000 [==============================] - 4s 51us/step - loss: 3.7325e-07 - mean_absolute_error: 1.8540e-04 - mean_squared_error: 3.7325e-07 - val_loss: 2.0543e-07 - val_mean_absolute_error: 1.4773e-04 - val_mean_squared_error: 2.0543e-07\n",
      "Epoch 9/100\n",
      "80000/80000 [==============================] - 4s 44us/step - loss: 2.6384e-07 - mean_absolute_error: 1.6540e-04 - mean_squared_error: 2.6384e-07 - val_loss: 1.9356e-07 - val_mean_absolute_error: 2.0720e-04 - val_mean_squared_error: 1.9356e-07\n",
      "Epoch 10/100\n",
      "80000/80000 [==============================] - 4s 48us/step - loss: 1.9673e-07 - mean_absolute_error: 1.4200e-04 - mean_squared_error: 1.9673e-07 - val_loss: 1.2766e-07 - val_mean_absolute_error: 1.0622e-04 - val_mean_squared_error: 1.2766e-07\n",
      "Epoch 11/100\n",
      "80000/80000 [==============================] - 4s 45us/step - loss: 1.5981e-07 - mean_absolute_error: 1.3383e-04 - mean_squared_error: 1.5981e-07 - val_loss: 1.1103e-07 - val_mean_absolute_error: 1.1722e-04 - val_mean_squared_error: 1.1103e-07\n",
      "Epoch 12/100\n",
      "80000/80000 [==============================] - 4s 44us/step - loss: 1.3364e-07 - mean_absolute_error: 1.2743e-04 - mean_squared_error: 1.3364e-07 - val_loss: 9.8752e-08 - val_mean_absolute_error: 9.1877e-05 - val_mean_squared_error: 9.8752e-08\n",
      "Epoch 13/100\n",
      "80000/80000 [==============================] - 4s 44us/step - loss: 1.1517e-07 - mean_absolute_error: 1.1111e-04 - mean_squared_error: 1.1517e-07 - val_loss: 8.4342e-08 - val_mean_absolute_error: 8.6319e-05 - val_mean_squared_error: 8.4342e-08\n",
      "Epoch 14/100\n",
      "80000/80000 [==============================] - 4s 45us/step - loss: 9.9101e-08 - mean_absolute_error: 1.1509e-04 - mean_squared_error: 9.9101e-08 - val_loss: 7.5501e-08 - val_mean_absolute_error: 8.0733e-05 - val_mean_squared_error: 7.5501e-08\n",
      "Epoch 15/100\n",
      "80000/80000 [==============================] - 4s 44us/step - loss: 8.8741e-08 - mean_absolute_error: 1.1164e-04 - mean_squared_error: 8.8741e-08 - val_loss: 6.8746e-08 - val_mean_absolute_error: 7.2601e-05 - val_mean_squared_error: 6.8746e-08\n",
      "Epoch 16/100\n",
      "80000/80000 [==============================] - 4s 45us/step - loss: 8.1445e-08 - mean_absolute_error: 1.0210e-04 - mean_squared_error: 8.1445e-08 - val_loss: 6.4467e-08 - val_mean_absolute_error: 8.7491e-05 - val_mean_squared_error: 6.4467e-08\n",
      "Epoch 17/100\n",
      "80000/80000 [==============================] - 3s 43us/step - loss: 7.4807e-08 - mean_absolute_error: 1.0629e-04 - mean_squared_error: 7.4807e-08 - val_loss: 6.0402e-08 - val_mean_absolute_error: 7.7648e-05 - val_mean_squared_error: 6.0402e-08\n",
      "Epoch 18/100\n",
      "80000/80000 [==============================] - 3s 43us/step - loss: 6.5732e-08 - mean_absolute_error: 9.4975e-05 - mean_squared_error: 6.5732e-08 - val_loss: 6.5001e-08 - val_mean_absolute_error: 1.2901e-04 - val_mean_squared_error: 6.5001e-08\n",
      "Epoch 19/100\n",
      "80000/80000 [==============================] - 3s 43us/step - loss: 6.6462e-08 - mean_absolute_error: 9.6608e-05 - mean_squared_error: 6.6462e-08 - val_loss: 5.3260e-08 - val_mean_absolute_error: 8.8318e-05 - val_mean_squared_error: 5.3260e-08\n",
      "Epoch 20/100\n",
      "80000/80000 [==============================] - 3s 43us/step - loss: 6.0617e-08 - mean_absolute_error: 9.1898e-05 - mean_squared_error: 6.0617e-08 - val_loss: 5.0612e-08 - val_mean_absolute_error: 8.5231e-05 - val_mean_squared_error: 5.0612e-08\n",
      "Epoch 21/100\n",
      "80000/80000 [==============================] - 3s 43us/step - loss: 5.5854e-08 - mean_absolute_error: 9.3556e-05 - mean_squared_error: 5.5854e-08 - val_loss: 1.0837e-07 - val_mean_absolute_error: 2.2519e-04 - val_mean_squared_error: 1.0837e-07\n",
      "Epoch 22/100\n",
      "80000/80000 [==============================] - 3s 43us/step - loss: 5.3376e-08 - mean_absolute_error: 8.8576e-05 - mean_squared_error: 5.3376e-08 - val_loss: 9.1900e-08 - val_mean_absolute_error: 2.2216e-04 - val_mean_squared_error: 9.1900e-08\n",
      "Epoch 23/100\n",
      "80000/80000 [==============================] - 3s 43us/step - loss: 5.2377e-08 - mean_absolute_error: 8.9696e-05 - mean_squared_error: 5.2377e-08 - val_loss: 4.0084e-08 - val_mean_absolute_error: 6.3389e-05 - val_mean_squared_error: 4.0084e-08\n",
      "Epoch 24/100\n",
      "80000/80000 [==============================] - 4s 46us/step - loss: 4.7226e-08 - mean_absolute_error: 8.7396e-05 - mean_squared_error: 4.7226e-08 - val_loss: 4.7652e-08 - val_mean_absolute_error: 1.1762e-04 - val_mean_squared_error: 4.7652e-08\n",
      "Epoch 25/100\n",
      "80000/80000 [==============================] - 4s 48us/step - loss: 4.6797e-08 - mean_absolute_error: 8.8247e-05 - mean_squared_error: 4.6797e-08 - val_loss: 3.7212e-08 - val_mean_absolute_error: 6.8962e-05 - val_mean_squared_error: 3.7212e-08\n",
      "Epoch 26/100\n",
      "80000/80000 [==============================] - 4s 46us/step - loss: 4.3419e-08 - mean_absolute_error: 8.6949e-05 - mean_squared_error: 4.3419e-08 - val_loss: 3.6834e-08 - val_mean_absolute_error: 6.5521e-05 - val_mean_squared_error: 3.6834e-08\n",
      "Epoch 27/100\n",
      "80000/80000 [==============================] - 4s 54us/step - loss: 4.6186e-08 - mean_absolute_error: 8.2944e-05 - mean_squared_error: 4.6186e-08 - val_loss: 3.4422e-08 - val_mean_absolute_error: 7.1184e-05 - val_mean_squared_error: 3.4422e-08\n",
      "Epoch 28/100\n",
      "80000/80000 [==============================] - 4s 48us/step - loss: 4.1973e-08 - mean_absolute_error: 8.1877e-05 - mean_squared_error: 4.1973e-08 - val_loss: 3.2186e-08 - val_mean_absolute_error: 5.8701e-05 - val_mean_squared_error: 3.2186e-08\n",
      "Epoch 29/100\n",
      "80000/80000 [==============================] - 4s 48us/step - loss: 3.9981e-08 - mean_absolute_error: 8.4011e-05 - mean_squared_error: 3.9981e-08 - val_loss: 3.9267e-08 - val_mean_absolute_error: 1.1026e-04 - val_mean_squared_error: 3.9267e-08\n",
      "Epoch 30/100\n",
      "80000/80000 [==============================] - 3s 43us/step - loss: 3.9544e-08 - mean_absolute_error: 8.5407e-05 - mean_squared_error: 3.9544e-08 - val_loss: 3.0152e-08 - val_mean_absolute_error: 4.6388e-05 - val_mean_squared_error: 3.0152e-08\n",
      "Epoch 31/100\n",
      "80000/80000 [==============================] - 3s 44us/step - loss: 3.7656e-08 - mean_absolute_error: 8.1810e-05 - mean_squared_error: 3.7656e-08 - val_loss: 3.3267e-08 - val_mean_absolute_error: 9.4212e-05 - val_mean_squared_error: 3.3267e-08\n",
      "Epoch 32/100\n",
      "80000/80000 [==============================] - 4s 47us/step - loss: 3.4005e-08 - mean_absolute_error: 7.5294e-05 - mean_squared_error: 3.4005e-08 - val_loss: 2.9240e-08 - val_mean_absolute_error: 6.9857e-05 - val_mean_squared_error: 2.9240e-08\n"
     ]
    },
    {
     "name": "stdout",
     "output_type": "stream",
     "text": [
      "Epoch 33/100\n",
      "80000/80000 [==============================] - 4s 45us/step - loss: 3.5951e-08 - mean_absolute_error: 7.8135e-05 - mean_squared_error: 3.5951e-08 - val_loss: 2.6749e-08 - val_mean_absolute_error: 5.2876e-05 - val_mean_squared_error: 2.6749e-08\n",
      "Epoch 34/100\n",
      "80000/80000 [==============================] - 3s 43us/step - loss: 3.5377e-08 - mean_absolute_error: 8.0999e-05 - mean_squared_error: 3.5377e-08 - val_loss: 2.4501e-08 - val_mean_absolute_error: 5.9402e-05 - val_mean_squared_error: 2.4501e-08\n",
      "Epoch 35/100\n",
      "80000/80000 [==============================] - 3s 42us/step - loss: 3.1075e-08 - mean_absolute_error: 7.6752e-05 - mean_squared_error: 3.1075e-08 - val_loss: 1.0614e-07 - val_mean_absolute_error: 2.4133e-04 - val_mean_squared_error: 1.0614e-07\n",
      "Epoch 36/100\n",
      "80000/80000 [==============================] - 3s 43us/step - loss: 3.3327e-08 - mean_absolute_error: 8.0710e-05 - mean_squared_error: 3.3327e-08 - val_loss: 2.2563e-08 - val_mean_absolute_error: 4.6531e-05 - val_mean_squared_error: 2.2563e-08\n",
      "Epoch 37/100\n",
      "80000/80000 [==============================] - 3s 42us/step - loss: 3.0994e-08 - mean_absolute_error: 7.9994e-05 - mean_squared_error: 3.0994e-08 - val_loss: 3.5409e-08 - val_mean_absolute_error: 1.1970e-04 - val_mean_squared_error: 3.5409e-08\n",
      "Epoch 38/100\n",
      "80000/80000 [==============================] - 3s 42us/step - loss: 2.8710e-08 - mean_absolute_error: 7.4673e-05 - mean_squared_error: 2.8710e-08 - val_loss: 2.4793e-08 - val_mean_absolute_error: 7.4351e-05 - val_mean_squared_error: 2.4793e-08\n",
      "Epoch 39/100\n",
      "80000/80000 [==============================] - 3s 42us/step - loss: 2.9171e-08 - mean_absolute_error: 7.8197e-05 - mean_squared_error: 2.9171e-08 - val_loss: 2.0478e-08 - val_mean_absolute_error: 5.1127e-05 - val_mean_squared_error: 2.0478e-08\n",
      "Epoch 40/100\n",
      "80000/80000 [==============================] - 3s 42us/step - loss: 2.8050e-08 - mean_absolute_error: 7.0018e-05 - mean_squared_error: 2.8050e-08 - val_loss: 2.1152e-08 - val_mean_absolute_error: 6.0992e-05 - val_mean_squared_error: 2.1152e-08\n",
      "Epoch 41/100\n",
      "80000/80000 [==============================] - 3s 42us/step - loss: 2.8305e-08 - mean_absolute_error: 7.8159e-05 - mean_squared_error: 2.8305e-08 - val_loss: 1.9918e-08 - val_mean_absolute_error: 4.6004e-05 - val_mean_squared_error: 1.9918e-08\n",
      "Epoch 42/100\n",
      "80000/80000 [==============================] - 4s 45us/step - loss: 2.8681e-08 - mean_absolute_error: 7.2270e-05 - mean_squared_error: 2.8681e-08 - val_loss: 1.8518e-08 - val_mean_absolute_error: 4.0205e-05 - val_mean_squared_error: 1.8518e-08\n",
      "Epoch 43/100\n",
      "80000/80000 [==============================] - 3s 44us/step - loss: 2.5868e-08 - mean_absolute_error: 7.5933e-05 - mean_squared_error: 2.5868e-08 - val_loss: 1.8527e-08 - val_mean_absolute_error: 5.3471e-05 - val_mean_squared_error: 1.8527e-08\n",
      "Epoch 44/100\n",
      "80000/80000 [==============================] - 4s 49us/step - loss: 2.6621e-08 - mean_absolute_error: 7.5758e-05 - mean_squared_error: 2.6621e-08 - val_loss: 1.7145e-08 - val_mean_absolute_error: 4.6140e-05 - val_mean_squared_error: 1.7145e-08\n",
      "Epoch 45/100\n",
      "80000/80000 [==============================] - 3s 43us/step - loss: 2.5166e-08 - mean_absolute_error: 7.5443e-05 - mean_squared_error: 2.5166e-08 - val_loss: 1.9989e-08 - val_mean_absolute_error: 7.2330e-05 - val_mean_squared_error: 1.9989e-08\n",
      "Epoch 46/100\n",
      "80000/80000 [==============================] - 3s 43us/step - loss: 2.6788e-08 - mean_absolute_error: 6.9050e-05 - mean_squared_error: 2.6788e-08 - val_loss: 2.2333e-08 - val_mean_absolute_error: 8.1153e-05 - val_mean_squared_error: 2.2333e-08\n",
      "Epoch 47/100\n",
      "80000/80000 [==============================] - 3s 42us/step - loss: 2.4833e-08 - mean_absolute_error: 7.1749e-05 - mean_squared_error: 2.4833e-08 - val_loss: 1.6901e-08 - val_mean_absolute_error: 5.1206e-05 - val_mean_squared_error: 1.6901e-08\n",
      "Epoch 48/100\n",
      "80000/80000 [==============================] - 3s 43us/step - loss: 2.6611e-08 - mean_absolute_error: 7.3622e-05 - mean_squared_error: 2.6611e-08 - val_loss: 1.5762e-08 - val_mean_absolute_error: 4.0135e-05 - val_mean_squared_error: 1.5762e-08\n",
      "Epoch 49/100\n",
      "80000/80000 [==============================] - 3s 42us/step - loss: 2.2035e-08 - mean_absolute_error: 6.9948e-05 - mean_squared_error: 2.2035e-08 - val_loss: 1.5849e-08 - val_mean_absolute_error: 4.2235e-05 - val_mean_squared_error: 1.5849e-08\n",
      "Epoch 50/100\n",
      "80000/80000 [==============================] - 3s 43us/step - loss: 2.3869e-08 - mean_absolute_error: 6.9244e-05 - mean_squared_error: 2.3869e-08 - val_loss: 1.7371e-08 - val_mean_absolute_error: 6.6668e-05 - val_mean_squared_error: 1.7371e-08\n",
      "Epoch 51/100\n",
      "80000/80000 [==============================] - 3s 43us/step - loss: 2.4607e-08 - mean_absolute_error: 7.1433e-05 - mean_squared_error: 2.4607e-08 - val_loss: 1.4324e-08 - val_mean_absolute_error: 3.7763e-05 - val_mean_squared_error: 1.4324e-08\n",
      "Epoch 52/100\n",
      "80000/80000 [==============================] - 3s 43us/step - loss: 2.1296e-08 - mean_absolute_error: 6.6568e-05 - mean_squared_error: 2.1296e-08 - val_loss: 1.4669e-08 - val_mean_absolute_error: 4.6211e-05 - val_mean_squared_error: 1.4669e-08\n",
      "Epoch 53/100\n",
      "80000/80000 [==============================] - 3s 42us/step - loss: 2.0933e-08 - mean_absolute_error: 7.1146e-05 - mean_squared_error: 2.0933e-08 - val_loss: 1.5928e-08 - val_mean_absolute_error: 5.7483e-05 - val_mean_squared_error: 1.5928e-08\n",
      "Epoch 54/100\n",
      "80000/80000 [==============================] - 3s 43us/step - loss: 2.4356e-08 - mean_absolute_error: 7.3640e-05 - mean_squared_error: 2.4356e-08 - val_loss: 1.4132e-08 - val_mean_absolute_error: 3.9517e-05 - val_mean_squared_error: 1.4132e-08\n",
      "Epoch 55/100\n",
      "80000/80000 [==============================] - 3s 43us/step - loss: 1.8616e-08 - mean_absolute_error: 6.0806e-05 - mean_squared_error: 1.8616e-08 - val_loss: 1.5073e-08 - val_mean_absolute_error: 5.8766e-05 - val_mean_squared_error: 1.5073e-08\n",
      "Epoch 56/100\n",
      "80000/80000 [==============================] - 4s 44us/step - loss: 2.4793e-08 - mean_absolute_error: 6.6959e-05 - mean_squared_error: 2.4793e-08 - val_loss: 1.3455e-08 - val_mean_absolute_error: 4.0422e-05 - val_mean_squared_error: 1.3455e-08\n",
      "Epoch 57/100\n",
      "80000/80000 [==============================] - 4s 44us/step - loss: 2.0066e-08 - mean_absolute_error: 6.6910e-05 - mean_squared_error: 2.0066e-08 - val_loss: 3.2002e-08 - val_mean_absolute_error: 1.2211e-04 - val_mean_squared_error: 3.2002e-08\n",
      "Epoch 58/100\n",
      "80000/80000 [==============================] - 3s 43us/step - loss: 2.0415e-08 - mean_absolute_error: 6.9352e-05 - mean_squared_error: 2.0415e-08 - val_loss: 1.3296e-08 - val_mean_absolute_error: 4.7360e-05 - val_mean_squared_error: 1.3296e-08\n",
      "Epoch 59/100\n",
      "80000/80000 [==============================] - 3s 43us/step - loss: 2.0825e-08 - mean_absolute_error: 6.9147e-05 - mean_squared_error: 2.0825e-08 - val_loss: 1.3213e-08 - val_mean_absolute_error: 5.1337e-05 - val_mean_squared_error: 1.3213e-08\n",
      "Epoch 60/100\n",
      "80000/80000 [==============================] - 4s 44us/step - loss: 2.2248e-08 - mean_absolute_error: 6.4634e-05 - mean_squared_error: 2.2248e-08 - val_loss: 1.2122e-08 - val_mean_absolute_error: 3.7694e-05 - val_mean_squared_error: 1.2122e-08\n",
      "Epoch 61/100\n",
      "80000/80000 [==============================] - 4s 47us/step - loss: 2.0631e-08 - mean_absolute_error: 6.9049e-05 - mean_squared_error: 2.0631e-08 - val_loss: 1.2680e-08 - val_mean_absolute_error: 4.6259e-05 - val_mean_squared_error: 1.2680e-08\n",
      "Epoch 62/100\n",
      "80000/80000 [==============================] - 4s 44us/step - loss: 2.0764e-08 - mean_absolute_error: 7.1592e-05 - mean_squared_error: 2.0764e-08 - val_loss: 1.1934e-08 - val_mean_absolute_error: 3.5851e-05 - val_mean_squared_error: 1.1934e-08\n",
      "Epoch 63/100\n",
      "80000/80000 [==============================] - 4s 50us/step - loss: 1.8684e-08 - mean_absolute_error: 6.0225e-05 - mean_squared_error: 1.8684e-08 - val_loss: 1.3158e-08 - val_mean_absolute_error: 5.2230e-05 - val_mean_squared_error: 1.3158e-08\n",
      "Epoch 64/100\n",
      "80000/80000 [==============================] - 4s 49us/step - loss: 2.2389e-08 - mean_absolute_error: 6.7889e-05 - mean_squared_error: 2.2389e-08 - val_loss: 1.1604e-08 - val_mean_absolute_error: 3.5269e-05 - val_mean_squared_error: 1.1604e-08\n"
     ]
    },
    {
     "name": "stdout",
     "output_type": "stream",
     "text": [
      "Epoch 65/100\n",
      "80000/80000 [==============================] - 4s 46us/step - loss: 1.8026e-08 - mean_absolute_error: 6.0865e-05 - mean_squared_error: 1.8026e-08 - val_loss: 1.1787e-08 - val_mean_absolute_error: 4.3473e-05 - val_mean_squared_error: 1.1787e-08\n",
      "Epoch 66/100\n",
      "80000/80000 [==============================] - 3s 43us/step - loss: 1.9474e-08 - mean_absolute_error: 6.6182e-05 - mean_squared_error: 1.9474e-08 - val_loss: 2.7504e-08 - val_mean_absolute_error: 1.2416e-04 - val_mean_squared_error: 2.7504e-08\n",
      "Epoch 67/100\n",
      "80000/80000 [==============================] - 3s 43us/step - loss: 2.4718e-08 - mean_absolute_error: 6.7934e-05 - mean_squared_error: 2.4718e-08 - val_loss: 1.0957e-08 - val_mean_absolute_error: 3.3792e-05 - val_mean_squared_error: 1.0957e-08\n",
      "Epoch 68/100\n",
      "80000/80000 [==============================] - 3s 43us/step - loss: 1.7954e-08 - mean_absolute_error: 6.1359e-05 - mean_squared_error: 1.7954e-08 - val_loss: 1.8442e-08 - val_mean_absolute_error: 9.3957e-05 - val_mean_squared_error: 1.8442e-08\n",
      "Epoch 69/100\n",
      "80000/80000 [==============================] - 3s 43us/step - loss: 1.6289e-08 - mean_absolute_error: 5.9457e-05 - mean_squared_error: 1.6289e-08 - val_loss: 1.3943e-08 - val_mean_absolute_error: 6.5947e-05 - val_mean_squared_error: 1.3943e-08\n",
      "Epoch 70/100\n",
      "80000/80000 [==============================] - 3s 43us/step - loss: 1.8612e-08 - mean_absolute_error: 6.9853e-05 - mean_squared_error: 1.8612e-08 - val_loss: 5.5037e-08 - val_mean_absolute_error: 1.9170e-04 - val_mean_squared_error: 5.5037e-08\n",
      "Epoch 71/100\n",
      "80000/80000 [==============================] - 3s 43us/step - loss: 1.7800e-08 - mean_absolute_error: 6.6739e-05 - mean_squared_error: 1.7800e-08 - val_loss: 2.0916e-08 - val_mean_absolute_error: 9.8203e-05 - val_mean_squared_error: 2.0916e-08\n",
      "Epoch 72/100\n",
      "80000/80000 [==============================] - 3s 43us/step - loss: 1.8090e-08 - mean_absolute_error: 6.8399e-05 - mean_squared_error: 1.8090e-08 - val_loss: 1.2031e-08 - val_mean_absolute_error: 5.4527e-05 - val_mean_squared_error: 1.2031e-08\n",
      "Epoch 73/100\n",
      "80000/80000 [==============================] - 3s 43us/step - loss: 1.8298e-08 - mean_absolute_error: 6.3209e-05 - mean_squared_error: 1.8298e-08 - val_loss: 1.0081e-08 - val_mean_absolute_error: 3.6656e-05 - val_mean_squared_error: 1.0081e-08\n",
      "Epoch 74/100\n",
      "80000/80000 [==============================] - 3s 43us/step - loss: 1.9791e-08 - mean_absolute_error: 6.8228e-05 - mean_squared_error: 1.9791e-08 - val_loss: 9.6016e-09 - val_mean_absolute_error: 3.3741e-05 - val_mean_squared_error: 9.6016e-09\n",
      "Epoch 75/100\n",
      "80000/80000 [==============================] - 3s 43us/step - loss: 1.8189e-08 - mean_absolute_error: 6.3966e-05 - mean_squared_error: 1.8189e-08 - val_loss: 1.0054e-08 - val_mean_absolute_error: 3.6019e-05 - val_mean_squared_error: 1.0054e-08\n",
      "Epoch 76/100\n",
      "80000/80000 [==============================] - 3s 43us/step - loss: 1.6155e-08 - mean_absolute_error: 6.1534e-05 - mean_squared_error: 1.6155e-08 - val_loss: 3.2931e-08 - val_mean_absolute_error: 1.2508e-04 - val_mean_squared_error: 3.2931e-08\n",
      "Epoch 77/100\n",
      "80000/80000 [==============================] - 3s 43us/step - loss: 1.9897e-08 - mean_absolute_error: 6.0894e-05 - mean_squared_error: 1.9897e-08 - val_loss: 9.8323e-09 - val_mean_absolute_error: 3.9418e-05 - val_mean_squared_error: 9.8323e-09\n",
      "Epoch 78/100\n",
      "80000/80000 [==============================] - 3s 43us/step - loss: 1.6789e-08 - mean_absolute_error: 6.3231e-05 - mean_squared_error: 1.6789e-08 - val_loss: 9.5530e-09 - val_mean_absolute_error: 3.3749e-05 - val_mean_squared_error: 9.5530e-09\n",
      "Epoch 79/100\n",
      "80000/80000 [==============================] - 4s 47us/step - loss: 1.7329e-08 - mean_absolute_error: 5.9891e-05 - mean_squared_error: 1.7329e-08 - val_loss: 9.4007e-09 - val_mean_absolute_error: 3.7703e-05 - val_mean_squared_error: 9.4007e-09\n",
      "Epoch 80/100\n",
      "80000/80000 [==============================] - 3s 43us/step - loss: 1.8516e-08 - mean_absolute_error: 6.8039e-05 - mean_squared_error: 1.8516e-08 - val_loss: 4.9634e-08 - val_mean_absolute_error: 1.7856e-04 - val_mean_squared_error: 4.9634e-08\n",
      "Epoch 81/100\n",
      "80000/80000 [==============================] - 3s 43us/step - loss: 1.6412e-08 - mean_absolute_error: 6.1173e-05 - mean_squared_error: 1.6412e-08 - val_loss: 9.2208e-09 - val_mean_absolute_error: 3.4286e-05 - val_mean_squared_error: 9.2208e-09\n",
      "Epoch 82/100\n",
      "80000/80000 [==============================] - 3s 42us/step - loss: 1.5077e-08 - mean_absolute_error: 6.3514e-05 - mean_squared_error: 1.5077e-08 - val_loss: 1.2881e-08 - val_mean_absolute_error: 6.5168e-05 - val_mean_squared_error: 1.2881e-08\n",
      "Epoch 83/100\n",
      "80000/80000 [==============================] - 3s 43us/step - loss: 1.6526e-08 - mean_absolute_error: 6.0069e-05 - mean_squared_error: 1.6526e-08 - val_loss: 1.1327e-08 - val_mean_absolute_error: 5.6134e-05 - val_mean_squared_error: 1.1327e-08\n",
      "Epoch 84/100\n",
      "80000/80000 [==============================] - 3s 43us/step - loss: 1.6286e-08 - mean_absolute_error: 6.0022e-05 - mean_squared_error: 1.6286e-08 - val_loss: 9.4862e-09 - val_mean_absolute_error: 4.5117e-05 - val_mean_squared_error: 9.4862e-09\n",
      "Epoch 85/100\n",
      "80000/80000 [==============================] - 3s 43us/step - loss: 1.6458e-08 - mean_absolute_error: 6.0414e-05 - mean_squared_error: 1.6458e-08 - val_loss: 8.7917e-09 - val_mean_absolute_error: 3.5870e-05 - val_mean_squared_error: 8.7917e-09\n",
      "Epoch 86/100\n",
      "80000/80000 [==============================] - 3s 42us/step - loss: 1.6039e-08 - mean_absolute_error: 6.6190e-05 - mean_squared_error: 1.6039e-08 - val_loss: 1.3043e-08 - val_mean_absolute_error: 7.2076e-05 - val_mean_squared_error: 1.3043e-08\n",
      "Epoch 87/100\n",
      "80000/80000 [==============================] - 3s 42us/step - loss: 1.8062e-08 - mean_absolute_error: 6.2774e-05 - mean_squared_error: 1.8062e-08 - val_loss: 8.4840e-09 - val_mean_absolute_error: 2.9964e-05 - val_mean_squared_error: 8.4840e-09\n",
      "Epoch 88/100\n",
      "80000/80000 [==============================] - 3s 42us/step - loss: 1.9103e-08 - mean_absolute_error: 6.1392e-05 - mean_squared_error: 1.9103e-08 - val_loss: 8.3439e-09 - val_mean_absolute_error: 3.0026e-05 - val_mean_squared_error: 8.3439e-09\n",
      "Epoch 89/100\n",
      "80000/80000 [==============================] - 4s 44us/step - loss: 1.4244e-08 - mean_absolute_error: 5.2218e-05 - mean_squared_error: 1.4244e-08 - val_loss: 8.3034e-09 - val_mean_absolute_error: 3.1859e-05 - val_mean_squared_error: 8.3034e-09\n",
      "Epoch 90/100\n",
      "80000/80000 [==============================] - 3s 43us/step - loss: 1.7527e-08 - mean_absolute_error: 5.7073e-05 - mean_squared_error: 1.7527e-08 - val_loss: 1.0343e-08 - val_mean_absolute_error: 5.8489e-05 - val_mean_squared_error: 1.0343e-08\n",
      "Epoch 91/100\n",
      "80000/80000 [==============================] - 3s 44us/step - loss: 1.5426e-08 - mean_absolute_error: 5.6585e-05 - mean_squared_error: 1.5426e-08 - val_loss: 1.6166e-08 - val_mean_absolute_error: 9.0798e-05 - val_mean_squared_error: 1.6166e-08\n",
      "Epoch 92/100\n",
      "80000/80000 [==============================] - 4s 45us/step - loss: 1.8660e-08 - mean_absolute_error: 6.1537e-05 - mean_squared_error: 1.8660e-08 - val_loss: 8.2730e-09 - val_mean_absolute_error: 3.6115e-05 - val_mean_squared_error: 8.2730e-09\n",
      "Epoch 93/100\n",
      "80000/80000 [==============================] - 3s 42us/step - loss: 1.6354e-08 - mean_absolute_error: 6.1059e-05 - mean_squared_error: 1.6354e-08 - val_loss: 8.3091e-09 - val_mean_absolute_error: 3.5816e-05 - val_mean_squared_error: 8.3091e-09\n",
      "Epoch 94/100\n",
      "80000/80000 [==============================] - 3s 43us/step - loss: 1.5058e-08 - mean_absolute_error: 5.7368e-05 - mean_squared_error: 1.5058e-08 - val_loss: 8.5404e-09 - val_mean_absolute_error: 3.9109e-05 - val_mean_squared_error: 8.5404e-09\n",
      "Epoch 95/100\n",
      "80000/80000 [==============================] - 3s 42us/step - loss: 1.4760e-08 - mean_absolute_error: 6.0494e-05 - mean_squared_error: 1.4760e-08 - val_loss: 1.0794e-08 - val_mean_absolute_error: 6.4374e-05 - val_mean_squared_error: 1.0794e-08\n",
      "Epoch 96/100\n",
      "80000/80000 [==============================] - 4s 47us/step - loss: 1.5609e-08 - mean_absolute_error: 6.0643e-05 - mean_squared_error: 1.5609e-08 - val_loss: 2.2232e-08 - val_mean_absolute_error: 1.1071e-04 - val_mean_squared_error: 2.2232e-08\n"
     ]
    },
    {
     "name": "stdout",
     "output_type": "stream",
     "text": [
      "Epoch 97/100\n",
      "80000/80000 [==============================] - 3s 42us/step - loss: 1.4842e-08 - mean_absolute_error: 6.5180e-05 - mean_squared_error: 1.4842e-08 - val_loss: 1.7642e-08 - val_mean_absolute_error: 9.4257e-05 - val_mean_squared_error: 1.7642e-08\n",
      "Epoch 98/100\n",
      "80000/80000 [==============================] - 3s 42us/step - loss: 1.5796e-08 - mean_absolute_error: 6.3417e-05 - mean_squared_error: 1.5796e-08 - val_loss: 7.9737e-09 - val_mean_absolute_error: 3.9474e-05 - val_mean_squared_error: 7.9737e-09\n",
      "Epoch 99/100\n",
      "80000/80000 [==============================] - 3s 42us/step - loss: 1.9258e-08 - mean_absolute_error: 6.2462e-05 - mean_squared_error: 1.9258e-08 - val_loss: 7.3669e-09 - val_mean_absolute_error: 2.7845e-05 - val_mean_squared_error: 7.3669e-09\n",
      "Epoch 100/100\n",
      "80000/80000 [==============================] - 3s 42us/step - loss: 1.4543e-08 - mean_absolute_error: 5.0480e-05 - mean_squared_error: 1.4543e-08 - val_loss: 8.2976e-09 - val_mean_absolute_error: 4.2127e-05 - val_mean_squared_error: 8.2976e-09\n"
     ]
    }
   ],
   "source": [
    "early_stopping_monitor = EarlyStopping(patience=20) \n",
    "history_ham = ham.fit(X,Y, \n",
    "                      batch_size=32,\n",
    "                      epochs=100,\n",
    "                      validation_data=(Xv,Yv),\n",
    "                      callbacks=[early_stopping_monitor])"
   ]
  },
  {
   "cell_type": "code",
   "execution_count": 9,
   "metadata": {},
   "outputs": [
    {
     "data": {
      "image/png": "[encoded data removed]",
      "text/plain": [
       "<Figure size 432x288 with 1 Axes>"
      ]
     },
     "metadata": {},
     "output_type": "display_data"
    }
   ],
   "source": [
    "plt.plot(history_ham.history['mean_squared_error'][5:])\n",
    "plt.plot(history_ham.history['val_mean_squared_error'][5:])\n",
    "plt.legend(['train', 'validation'])\n",
    "plt.xlabel('epoch')\n",
    "plt.ylabel('Mean squared error')\n",
    "plt.title('Training history of creating the HAM model')\n",
    "plt.show()"
   ]
  },
  {
   "cell_type": "code",
   "execution_count": 10,
   "metadata": {},
   "outputs": [
    {
     "name": "stdout",
     "output_type": "stream",
     "text": [
      "Train on 80000 samples, validate on 10000 samples\n",
      "Epoch 1/100\n",
      "80000/80000 [==============================] - 4s 48us/step - loss: 2.2059 - mean_absolute_error: 0.8679 - mean_squared_error: 2.2059 - val_loss: 0.0079 - val_mean_absolute_error: 0.0677 - val_mean_squared_error: 0.0079\n",
      "Epoch 2/100\n",
      "80000/80000 [==============================] - 4s 45us/step - loss: 0.0158 - mean_absolute_error: 0.0920 - mean_squared_error: 0.0158 - val_loss: 0.0035 - val_mean_absolute_error: 0.0443 - val_mean_squared_error: 0.0035\n",
      "Epoch 3/100\n",
      "80000/80000 [==============================] - 4s 45us/step - loss: 0.0062 - mean_absolute_error: 0.0574 - mean_squared_error: 0.0062 - val_loss: 5.3498e-04 - val_mean_absolute_error: 0.0174 - val_mean_squared_error: 5.3498e-04\n",
      "Epoch 4/100\n",
      "80000/80000 [==============================] - 3s 44us/step - loss: 9.0110e-04 - mean_absolute_error: 0.0200 - mean_squared_error: 9.0110e-04 - val_loss: 9.2345e-05 - val_mean_absolute_error: 0.0064 - val_mean_squared_error: 9.2345e-05\n",
      "Epoch 5/100\n",
      "80000/80000 [==============================] - 4s 44us/step - loss: 1.2448e-04 - mean_absolute_error: 0.0056 - mean_squared_error: 1.2448e-04 - val_loss: 2.4578e-05 - val_mean_absolute_error: 0.0021 - val_mean_squared_error: 2.4578e-05\n",
      "Epoch 6/100\n",
      "80000/80000 [==============================] - 3s 44us/step - loss: 4.3636e-05 - mean_absolute_error: 0.0021 - mean_squared_error: 4.3636e-05 - val_loss: 1.4041e-05 - val_mean_absolute_error: 0.0012 - val_mean_squared_error: 1.4041e-05\n",
      "Epoch 7/100\n",
      "80000/80000 [==============================] - 4s 45us/step - loss: 2.5097e-05 - mean_absolute_error: 0.0013 - mean_squared_error: 2.5097e-05 - val_loss: 1.0342e-05 - val_mean_absolute_error: 8.8099e-04 - val_mean_squared_error: 1.0342e-05\n",
      "Epoch 8/100\n",
      "80000/80000 [==============================] - 4s 44us/step - loss: 1.7388e-05 - mean_absolute_error: 0.0010 - mean_squared_error: 1.7388e-05 - val_loss: 8.1687e-06 - val_mean_absolute_error: 7.7489e-04 - val_mean_squared_error: 8.1687e-06\n",
      "Epoch 9/100\n",
      "80000/80000 [==============================] - 4s 44us/step - loss: 1.2863e-05 - mean_absolute_error: 8.7291e-04 - mean_squared_error: 1.2863e-05 - val_loss: 6.1837e-06 - val_mean_absolute_error: 8.3135e-04 - val_mean_squared_error: 6.1837e-06\n",
      "Epoch 10/100\n",
      "80000/80000 [==============================] - 4s 44us/step - loss: 9.8698e-06 - mean_absolute_error: 7.8406e-04 - mean_squared_error: 9.8698e-06 - val_loss: 4.7587e-06 - val_mean_absolute_error: 5.9867e-04 - val_mean_squared_error: 4.7587e-06\n",
      "Epoch 11/100\n",
      "80000/80000 [==============================] - 4s 44us/step - loss: 7.5220e-06 - mean_absolute_error: 6.9948e-04 - mean_squared_error: 7.5220e-06 - val_loss: 3.8079e-06 - val_mean_absolute_error: 5.6057e-04 - val_mean_squared_error: 3.8079e-06\n",
      "Epoch 12/100\n",
      "80000/80000 [==============================] - 4s 44us/step - loss: 5.8024e-06 - mean_absolute_error: 6.2743e-04 - mean_squared_error: 5.8024e-06 - val_loss: 3.4329e-06 - val_mean_absolute_error: 8.3315e-04 - val_mean_squared_error: 3.4329e-06\n",
      "Epoch 13/100\n",
      "80000/80000 [==============================] - 4s 49us/step - loss: 4.6138e-06 - mean_absolute_error: 5.7997e-04 - mean_squared_error: 4.6138e-06 - val_loss: 2.5514e-06 - val_mean_absolute_error: 5.4641e-04 - val_mean_squared_error: 2.5514e-06\n",
      "Epoch 14/100\n",
      "80000/80000 [==============================] - 4s 44us/step - loss: 3.7743e-06 - mean_absolute_error: 5.4627e-04 - mean_squared_error: 3.7743e-06 - val_loss: 2.4527e-06 - val_mean_absolute_error: 7.5601e-04 - val_mean_squared_error: 2.4527e-06\n",
      "Epoch 15/100\n",
      "80000/80000 [==============================] - 4s 44us/step - loss: 3.1593e-06 - mean_absolute_error: 5.1092e-04 - mean_squared_error: 3.1593e-06 - val_loss: 1.8418e-06 - val_mean_absolute_error: 3.9343e-04 - val_mean_squared_error: 1.8418e-06\n",
      "Epoch 16/100\n",
      "80000/80000 [==============================] - 4s 45us/step - loss: 2.6633e-06 - mean_absolute_error: 4.8396e-04 - mean_squared_error: 2.6633e-06 - val_loss: 1.6571e-06 - val_mean_absolute_error: 3.6395e-04 - val_mean_squared_error: 1.6571e-06\n",
      "Epoch 17/100\n",
      "80000/80000 [==============================] - 4s 45us/step - loss: 2.3076e-06 - mean_absolute_error: 4.7082e-04 - mean_squared_error: 2.3076e-06 - val_loss: 1.4423e-06 - val_mean_absolute_error: 4.3397e-04 - val_mean_squared_error: 1.4423e-06\n",
      "Epoch 18/100\n",
      "80000/80000 [==============================] - 4s 44us/step - loss: 2.0123e-06 - mean_absolute_error: 4.4661e-04 - mean_squared_error: 2.0123e-06 - val_loss: 1.2645e-06 - val_mean_absolute_error: 3.3790e-04 - val_mean_squared_error: 1.2645e-06\n",
      "Epoch 19/100\n",
      "80000/80000 [==============================] - 4s 53us/step - loss: 1.7864e-06 - mean_absolute_error: 4.3809e-04 - mean_squared_error: 1.7864e-06 - val_loss: 1.1613e-06 - val_mean_absolute_error: 3.9313e-04 - val_mean_squared_error: 1.1613e-06\n",
      "Epoch 20/100\n",
      "80000/80000 [==============================] - 4s 45us/step - loss: 1.5847e-06 - mean_absolute_error: 4.1951e-04 - mean_squared_error: 1.5847e-06 - val_loss: 1.0823e-06 - val_mean_absolute_error: 3.6252e-04 - val_mean_squared_error: 1.0823e-06\n",
      "Epoch 21/100\n",
      "80000/80000 [==============================] - 4s 45us/step - loss: 1.4317e-06 - mean_absolute_error: 4.0508e-04 - mean_squared_error: 1.4317e-06 - val_loss: 1.0014e-06 - val_mean_absolute_error: 3.2657e-04 - val_mean_squared_error: 1.0014e-06\n",
      "Epoch 22/100\n",
      "80000/80000 [==============================] - 4s 45us/step - loss: 1.2781e-06 - mean_absolute_error: 3.9070e-04 - mean_squared_error: 1.2781e-06 - val_loss: 1.0440e-06 - val_mean_absolute_error: 5.1557e-04 - val_mean_squared_error: 1.0440e-06\n",
      "Epoch 23/100\n",
      "80000/80000 [==============================] - 4s 45us/step - loss: 1.1813e-06 - mean_absolute_error: 3.8897e-04 - mean_squared_error: 1.1813e-06 - val_loss: 7.9913e-07 - val_mean_absolute_error: 2.9419e-04 - val_mean_squared_error: 7.9913e-07\n",
      "Epoch 24/100\n",
      "80000/80000 [==============================] - 4s 46us/step - loss: 1.0646e-06 - mean_absolute_error: 3.6995e-04 - mean_squared_error: 1.0646e-06 - val_loss: 8.5841e-07 - val_mean_absolute_error: 4.1305e-04 - val_mean_squared_error: 8.5841e-07\n",
      "Epoch 25/100\n",
      "80000/80000 [==============================] - 4s 45us/step - loss: 9.8842e-07 - mean_absolute_error: 3.7365e-04 - mean_squared_error: 9.8842e-07 - val_loss: 7.4099e-07 - val_mean_absolute_error: 3.4114e-04 - val_mean_squared_error: 7.4099e-07\n",
      "Epoch 26/100\n",
      "80000/80000 [==============================] - 4s 49us/step - loss: 9.0457e-07 - mean_absolute_error: 3.5468e-04 - mean_squared_error: 9.0457e-07 - val_loss: 6.6476e-07 - val_mean_absolute_error: 3.0862e-04 - val_mean_squared_error: 6.6476e-07\n",
      "Epoch 27/100\n",
      "80000/80000 [==============================] - 4s 51us/step - loss: 8.4440e-07 - mean_absolute_error: 3.6888e-04 - mean_squared_error: 8.4440e-07 - val_loss: 6.0505e-07 - val_mean_absolute_error: 2.8050e-04 - val_mean_squared_error: 6.0505e-07\n",
      "Epoch 28/100\n",
      "80000/80000 [==============================] - 4s 50us/step - loss: 7.8443e-07 - mean_absolute_error: 3.4182e-04 - mean_squared_error: 7.8443e-07 - val_loss: 1.3584e-06 - val_mean_absolute_error: 8.5999e-04 - val_mean_squared_error: 1.3584e-06\n",
      "Epoch 29/100\n",
      "80000/80000 [==============================] - 4s 54us/step - loss: 7.1707e-07 - mean_absolute_error: 3.3349e-04 - mean_squared_error: 7.1707e-07 - val_loss: 6.1029e-07 - val_mean_absolute_error: 4.0162e-04 - val_mean_squared_error: 6.1029e-07\n",
      "Epoch 30/100\n",
      "80000/80000 [==============================] - 4s 47us/step - loss: 6.7952e-07 - mean_absolute_error: 3.4322e-04 - mean_squared_error: 6.7952e-07 - val_loss: 5.3101e-07 - val_mean_absolute_error: 2.5143e-04 - val_mean_squared_error: 5.3101e-07\n",
      "Epoch 31/100\n",
      "80000/80000 [==============================] - 4s 46us/step - loss: 6.3538e-07 - mean_absolute_error: 3.2917e-04 - mean_squared_error: 6.3538e-07 - val_loss: 5.1352e-07 - val_mean_absolute_error: 3.1148e-04 - val_mean_squared_error: 5.1352e-07\n",
      "Epoch 32/100\n",
      "80000/80000 [==============================] - 4s 46us/step - loss: 5.9360e-07 - mean_absolute_error: 3.2785e-04 - mean_squared_error: 5.9360e-07 - val_loss: 4.9668e-07 - val_mean_absolute_error: 3.1153e-04 - val_mean_squared_error: 4.9668e-07\n",
      "Epoch 33/100\n"
     ]
    },
    {
     "name": "stdout",
     "output_type": "stream",
     "text": [
      "80000/80000 [==============================] - 4s 46us/step - loss: 5.5712e-07 - mean_absolute_error: 3.1469e-04 - mean_squared_error: 5.5712e-07 - val_loss: 6.6839e-07 - val_mean_absolute_error: 5.0131e-04 - val_mean_squared_error: 6.6839e-07\n",
      "Epoch 34/100\n",
      "80000/80000 [==============================] - 4s 45us/step - loss: 5.3408e-07 - mean_absolute_error: 3.2338e-04 - mean_squared_error: 5.3408e-07 - val_loss: 4.2019e-07 - val_mean_absolute_error: 2.5295e-04 - val_mean_squared_error: 4.2019e-07\n",
      "Epoch 35/100\n",
      "80000/80000 [==============================] - 4s 44us/step - loss: 4.9575e-07 - mean_absolute_error: 3.0773e-04 - mean_squared_error: 4.9575e-07 - val_loss: 4.0448e-07 - val_mean_absolute_error: 2.4710e-04 - val_mean_squared_error: 4.0448e-07\n",
      "Epoch 36/100\n",
      "80000/80000 [==============================] - 4s 44us/step - loss: 4.7616e-07 - mean_absolute_error: 3.1224e-04 - mean_squared_error: 4.7616e-07 - val_loss: 4.1058e-07 - val_mean_absolute_error: 2.7772e-04 - val_mean_squared_error: 4.1058e-07\n",
      "Epoch 37/100\n",
      "80000/80000 [==============================] - 4s 44us/step - loss: 4.5520e-07 - mean_absolute_error: 3.0172e-04 - mean_squared_error: 4.5520e-07 - val_loss: 5.1319e-07 - val_mean_absolute_error: 4.5964e-04 - val_mean_squared_error: 5.1319e-07\n",
      "Epoch 38/100\n",
      "80000/80000 [==============================] - 4s 45us/step - loss: 4.2500e-07 - mean_absolute_error: 2.9477e-04 - mean_squared_error: 4.2500e-07 - val_loss: 3.5690e-07 - val_mean_absolute_error: 2.3398e-04 - val_mean_squared_error: 3.5690e-07\n",
      "Epoch 39/100\n",
      "80000/80000 [==============================] - 4s 47us/step - loss: 4.1533e-07 - mean_absolute_error: 3.0254e-04 - mean_squared_error: 4.1533e-07 - val_loss: 3.3851e-07 - val_mean_absolute_error: 2.0335e-04 - val_mean_squared_error: 3.3851e-07\n",
      "Epoch 40/100\n",
      "80000/80000 [==============================] - 4s 45us/step - loss: 3.9703e-07 - mean_absolute_error: 2.8510e-04 - mean_squared_error: 3.9703e-07 - val_loss: 3.3780e-07 - val_mean_absolute_error: 2.7366e-04 - val_mean_squared_error: 3.3780e-07\n",
      "Epoch 41/100\n",
      "80000/80000 [==============================] - 4s 45us/step - loss: 3.9017e-07 - mean_absolute_error: 2.9900e-04 - mean_squared_error: 3.9017e-07 - val_loss: 3.2482e-07 - val_mean_absolute_error: 2.0165e-04 - val_mean_squared_error: 3.2482e-07\n",
      "Epoch 42/100\n",
      "80000/80000 [==============================] - 4s 48us/step - loss: 3.7669e-07 - mean_absolute_error: 2.9948e-04 - mean_squared_error: 3.7669e-07 - val_loss: 3.5313e-07 - val_mean_absolute_error: 3.1117e-04 - val_mean_squared_error: 3.5313e-07\n",
      "Epoch 43/100\n",
      "80000/80000 [==============================] - 4s 44us/step - loss: 3.6456e-07 - mean_absolute_error: 2.8547e-04 - mean_squared_error: 3.6456e-07 - val_loss: 2.9962e-07 - val_mean_absolute_error: 1.9535e-04 - val_mean_squared_error: 2.9962e-07\n",
      "Epoch 44/100\n",
      "80000/80000 [==============================] - 4s 44us/step - loss: 3.5655e-07 - mean_absolute_error: 2.8664e-04 - mean_squared_error: 3.5655e-07 - val_loss: 3.0307e-07 - val_mean_absolute_error: 2.8517e-04 - val_mean_squared_error: 3.0307e-07\n",
      "Epoch 45/100\n",
      "80000/80000 [==============================] - 4s 44us/step - loss: 3.4569e-07 - mean_absolute_error: 2.8841e-04 - mean_squared_error: 3.4569e-07 - val_loss: 5.8879e-07 - val_mean_absolute_error: 5.9266e-04 - val_mean_squared_error: 5.8879e-07\n",
      "Epoch 46/100\n",
      "80000/80000 [==============================] - 4s 49us/step - loss: 3.3715e-07 - mean_absolute_error: 2.6849e-04 - mean_squared_error: 3.3715e-07 - val_loss: 2.9462e-07 - val_mean_absolute_error: 2.3992e-04 - val_mean_squared_error: 2.9462e-07\n",
      "Epoch 47/100\n",
      "80000/80000 [==============================] - 4s 44us/step - loss: 3.1525e-07 - mean_absolute_error: 2.7572e-04 - mean_squared_error: 3.1525e-07 - val_loss: 3.0329e-07 - val_mean_absolute_error: 3.0147e-04 - val_mean_squared_error: 3.0329e-07\n",
      "Epoch 48/100\n",
      "80000/80000 [==============================] - 4s 44us/step - loss: 3.0955e-07 - mean_absolute_error: 2.8063e-04 - mean_squared_error: 3.0955e-07 - val_loss: 3.3904e-07 - val_mean_absolute_error: 3.5745e-04 - val_mean_squared_error: 3.3904e-07\n",
      "Epoch 49/100\n",
      "80000/80000 [==============================] - 4s 45us/step - loss: 3.1126e-07 - mean_absolute_error: 2.8325e-04 - mean_squared_error: 3.1126e-07 - val_loss: 2.6921e-07 - val_mean_absolute_error: 2.4847e-04 - val_mean_squared_error: 2.6921e-07\n",
      "Epoch 50/100\n",
      "80000/80000 [==============================] - 4s 46us/step - loss: 3.0280e-07 - mean_absolute_error: 2.7089e-04 - mean_squared_error: 3.0280e-07 - val_loss: 2.4618e-07 - val_mean_absolute_error: 2.2061e-04 - val_mean_squared_error: 2.4618e-07\n",
      "Epoch 51/100\n",
      "80000/80000 [==============================] - 4s 45us/step - loss: 2.8697e-07 - mean_absolute_error: 2.6282e-04 - mean_squared_error: 2.8697e-07 - val_loss: 2.5646e-07 - val_mean_absolute_error: 2.6527e-04 - val_mean_squared_error: 2.5646e-07\n",
      "Epoch 52/100\n",
      "80000/80000 [==============================] - 4s 45us/step - loss: 2.8378e-07 - mean_absolute_error: 2.6825e-04 - mean_squared_error: 2.8378e-07 - val_loss: 2.2744e-07 - val_mean_absolute_error: 1.6504e-04 - val_mean_squared_error: 2.2744e-07\n",
      "Epoch 53/100\n",
      "80000/80000 [==============================] - 4s 46us/step - loss: 2.7415e-07 - mean_absolute_error: 2.5524e-04 - mean_squared_error: 2.7415e-07 - val_loss: 2.6541e-07 - val_mean_absolute_error: 2.7916e-04 - val_mean_squared_error: 2.6541e-07\n",
      "Epoch 54/100\n",
      "80000/80000 [==============================] - 4s 45us/step - loss: 2.9487e-07 - mean_absolute_error: 2.6539e-04 - mean_squared_error: 2.9487e-07 - val_loss: 2.1122e-07 - val_mean_absolute_error: 1.8043e-04 - val_mean_squared_error: 2.1122e-07\n",
      "Epoch 55/100\n",
      "80000/80000 [==============================] - 4s 45us/step - loss: 3.1151e-07 - mean_absolute_error: 2.8248e-04 - mean_squared_error: 3.1151e-07 - val_loss: 1.0644e-06 - val_mean_absolute_error: 8.3665e-04 - val_mean_squared_error: 1.0644e-06\n",
      "Epoch 56/100\n",
      "80000/80000 [==============================] - 4s 46us/step - loss: 2.4010e-07 - mean_absolute_error: 2.3308e-04 - mean_squared_error: 2.4010e-07 - val_loss: 2.1893e-07 - val_mean_absolute_error: 2.1293e-04 - val_mean_squared_error: 2.1893e-07\n",
      "Epoch 57/100\n",
      "80000/80000 [==============================] - 4s 46us/step - loss: 2.5472e-07 - mean_absolute_error: 2.5269e-04 - mean_squared_error: 2.5472e-07 - val_loss: 4.7745e-07 - val_mean_absolute_error: 4.8480e-04 - val_mean_squared_error: 4.7745e-07\n",
      "Epoch 58/100\n",
      "80000/80000 [==============================] - 4s 45us/step - loss: 2.4374e-07 - mean_absolute_error: 2.6209e-04 - mean_squared_error: 2.4374e-07 - val_loss: 2.5674e-07 - val_mean_absolute_error: 3.3027e-04 - val_mean_squared_error: 2.5674e-07\n",
      "Epoch 59/100\n",
      "80000/80000 [==============================] - 4s 46us/step - loss: 2.6562e-07 - mean_absolute_error: 2.6767e-04 - mean_squared_error: 2.6562e-07 - val_loss: 2.0912e-07 - val_mean_absolute_error: 2.1443e-04 - val_mean_squared_error: 2.0912e-07\n",
      "Epoch 60/100\n",
      "80000/80000 [==============================] - 4s 45us/step - loss: 2.3977e-07 - mean_absolute_error: 2.4534e-04 - mean_squared_error: 2.3977e-07 - val_loss: 2.1240e-07 - val_mean_absolute_error: 2.1928e-04 - val_mean_squared_error: 2.1240e-07\n",
      "Epoch 61/100\n",
      "80000/80000 [==============================] - 4s 45us/step - loss: 2.4145e-07 - mean_absolute_error: 2.5602e-04 - mean_squared_error: 2.4145e-07 - val_loss: 6.1942e-07 - val_mean_absolute_error: 6.3347e-04 - val_mean_squared_error: 6.1942e-07\n",
      "Epoch 62/100\n",
      "80000/80000 [==============================] - 4s 45us/step - loss: 2.2768e-07 - mean_absolute_error: 2.5185e-04 - mean_squared_error: 2.2768e-07 - val_loss: 1.8285e-07 - val_mean_absolute_error: 1.7046e-04 - val_mean_squared_error: 1.8285e-07\n",
      "Epoch 63/100\n",
      "80000/80000 [==============================] - 5s 62us/step - loss: 2.3773e-07 - mean_absolute_error: 2.4965e-04 - mean_squared_error: 2.3773e-07 - val_loss: 2.3161e-07 - val_mean_absolute_error: 2.7054e-04 - val_mean_squared_error: 2.3161e-07\n",
      "Epoch 64/100\n",
      "80000/80000 [==============================] - 4s 46us/step - loss: 2.3113e-07 - mean_absolute_error: 2.4345e-04 - mean_squared_error: 2.3113e-07 - val_loss: 2.0029e-07 - val_mean_absolute_error: 2.1558e-04 - val_mean_squared_error: 2.0029e-07\n"
     ]
    },
    {
     "name": "stdout",
     "output_type": "stream",
     "text": [
      "Epoch 65/100\n",
      "80000/80000 [==============================] - 4s 45us/step - loss: 2.2224e-07 - mean_absolute_error: 2.4001e-04 - mean_squared_error: 2.2224e-07 - val_loss: 1.7529e-07 - val_mean_absolute_error: 1.5742e-04 - val_mean_squared_error: 1.7529e-07\n",
      "Epoch 66/100\n",
      "80000/80000 [==============================] - 4s 45us/step - loss: 2.2768e-07 - mean_absolute_error: 2.4086e-04 - mean_squared_error: 2.2768e-07 - val_loss: 6.9684e-07 - val_mean_absolute_error: 7.4254e-04 - val_mean_squared_error: 6.9684e-07\n",
      "Epoch 67/100\n",
      "80000/80000 [==============================] - 4s 46us/step - loss: 2.2845e-07 - mean_absolute_error: 2.4662e-04 - mean_squared_error: 2.2845e-07 - val_loss: 1.6636e-07 - val_mean_absolute_error: 1.5654e-04 - val_mean_squared_error: 1.6636e-07\n",
      "Epoch 68/100\n",
      "80000/80000 [==============================] - 4s 45us/step - loss: 2.0639e-07 - mean_absolute_error: 2.3180e-04 - mean_squared_error: 2.0639e-07 - val_loss: 1.7405e-07 - val_mean_absolute_error: 1.7975e-04 - val_mean_squared_error: 1.7405e-07\n",
      "Epoch 69/100\n",
      "80000/80000 [==============================] - 4s 45us/step - loss: 2.1310e-07 - mean_absolute_error: 2.3949e-04 - mean_squared_error: 2.1310e-07 - val_loss: 2.0890e-07 - val_mean_absolute_error: 2.5554e-04 - val_mean_squared_error: 2.0890e-07\n",
      "Epoch 70/100\n",
      "80000/80000 [==============================] - 4s 45us/step - loss: 2.1674e-07 - mean_absolute_error: 2.3378e-04 - mean_squared_error: 2.1674e-07 - val_loss: 1.6942e-07 - val_mean_absolute_error: 1.8489e-04 - val_mean_squared_error: 1.6942e-07\n",
      "Epoch 71/100\n",
      "80000/80000 [==============================] - 4s 45us/step - loss: 2.0503e-07 - mean_absolute_error: 2.3353e-04 - mean_squared_error: 2.0503e-07 - val_loss: 1.8900e-07 - val_mean_absolute_error: 2.6083e-04 - val_mean_squared_error: 1.8900e-07\n",
      "Epoch 72/100\n",
      "80000/80000 [==============================] - 4s 45us/step - loss: 2.2245e-07 - mean_absolute_error: 2.3759e-04 - mean_squared_error: 2.2245e-07 - val_loss: 1.5461e-07 - val_mean_absolute_error: 1.5618e-04 - val_mean_squared_error: 1.5461e-07\n",
      "Epoch 73/100\n",
      "80000/80000 [==============================] - 4s 45us/step - loss: 1.8957e-07 - mean_absolute_error: 2.3241e-04 - mean_squared_error: 1.8957e-07 - val_loss: 1.5666e-07 - val_mean_absolute_error: 1.4702e-04 - val_mean_squared_error: 1.5666e-07\n",
      "Epoch 74/100\n",
      "80000/80000 [==============================] - 4s 45us/step - loss: 1.9528e-07 - mean_absolute_error: 2.4259e-04 - mean_squared_error: 1.9528e-07 - val_loss: 1.5496e-07 - val_mean_absolute_error: 1.6855e-04 - val_mean_squared_error: 1.5496e-07\n",
      "Epoch 75/100\n",
      "80000/80000 [==============================] - 4s 45us/step - loss: 1.9306e-07 - mean_absolute_error: 2.3940e-04 - mean_squared_error: 1.9306e-07 - val_loss: 2.7260e-07 - val_mean_absolute_error: 3.7254e-04 - val_mean_squared_error: 2.7260e-07\n",
      "Epoch 76/100\n",
      "80000/80000 [==============================] - 4s 46us/step - loss: 1.8974e-07 - mean_absolute_error: 2.3506e-04 - mean_squared_error: 1.8974e-07 - val_loss: 1.6318e-07 - val_mean_absolute_error: 2.1216e-04 - val_mean_squared_error: 1.6318e-07\n",
      "Epoch 77/100\n",
      "80000/80000 [==============================] - 4s 45us/step - loss: 1.8810e-07 - mean_absolute_error: 2.2681e-04 - mean_squared_error: 1.8810e-07 - val_loss: 1.4677e-07 - val_mean_absolute_error: 1.5042e-04 - val_mean_squared_error: 1.4677e-07\n",
      "Epoch 78/100\n",
      "80000/80000 [==============================] - 4s 45us/step - loss: 2.0109e-07 - mean_absolute_error: 2.3358e-04 - mean_squared_error: 2.0109e-07 - val_loss: 1.4762e-07 - val_mean_absolute_error: 1.8016e-04 - val_mean_squared_error: 1.4762e-07\n",
      "Epoch 79/100\n",
      "80000/80000 [==============================] - 4s 49us/step - loss: 2.0110e-07 - mean_absolute_error: 2.1921e-04 - mean_squared_error: 2.0110e-07 - val_loss: 1.3929e-07 - val_mean_absolute_error: 1.4405e-04 - val_mean_squared_error: 1.3929e-07\n",
      "Epoch 80/100\n",
      "80000/80000 [==============================] - 4s 45us/step - loss: 1.9085e-07 - mean_absolute_error: 2.2610e-04 - mean_squared_error: 1.9085e-07 - val_loss: 1.4234e-07 - val_mean_absolute_error: 1.7739e-04 - val_mean_squared_error: 1.4234e-07\n",
      "Epoch 81/100\n",
      "80000/80000 [==============================] - 4s 46us/step - loss: 1.7330e-07 - mean_absolute_error: 2.2328e-04 - mean_squared_error: 1.7330e-07 - val_loss: 1.5616e-07 - val_mean_absolute_error: 1.9276e-04 - val_mean_squared_error: 1.5616e-07\n",
      "Epoch 82/100\n",
      "80000/80000 [==============================] - 4s 47us/step - loss: 1.8312e-07 - mean_absolute_error: 2.3233e-04 - mean_squared_error: 1.8312e-07 - val_loss: 1.5567e-07 - val_mean_absolute_error: 2.1127e-04 - val_mean_squared_error: 1.5567e-07\n",
      "Epoch 83/100\n",
      "80000/80000 [==============================] - 4s 47us/step - loss: 2.0753e-07 - mean_absolute_error: 2.1849e-04 - mean_squared_error: 2.0753e-07 - val_loss: 1.3273e-07 - val_mean_absolute_error: 1.3162e-04 - val_mean_squared_error: 1.3273e-07\n",
      "Epoch 84/100\n",
      "80000/80000 [==============================] - 4s 45us/step - loss: 1.7585e-07 - mean_absolute_error: 2.1867e-04 - mean_squared_error: 1.7585e-07 - val_loss: 1.4099e-07 - val_mean_absolute_error: 1.8473e-04 - val_mean_squared_error: 1.4099e-07\n",
      "Epoch 85/100\n",
      "80000/80000 [==============================] - 4s 45us/step - loss: 1.6221e-07 - mean_absolute_error: 2.1698e-04 - mean_squared_error: 1.6221e-07 - val_loss: 1.2889e-07 - val_mean_absolute_error: 1.2345e-04 - val_mean_squared_error: 1.2889e-07\n",
      "Epoch 86/100\n",
      "80000/80000 [==============================] - 4s 45us/step - loss: 1.8230e-07 - mean_absolute_error: 2.2008e-04 - mean_squared_error: 1.8230e-07 - val_loss: 1.2947e-07 - val_mean_absolute_error: 1.5662e-04 - val_mean_squared_error: 1.2947e-07\n",
      "Epoch 87/100\n",
      "80000/80000 [==============================] - 4s 46us/step - loss: 1.7481e-07 - mean_absolute_error: 2.1143e-04 - mean_squared_error: 1.7481e-07 - val_loss: 1.2829e-07 - val_mean_absolute_error: 1.4589e-04 - val_mean_squared_error: 1.2829e-07\n",
      "Epoch 88/100\n",
      "80000/80000 [==============================] - 4s 45us/step - loss: 1.6487e-07 - mean_absolute_error: 2.1535e-04 - mean_squared_error: 1.6487e-07 - val_loss: 1.3932e-07 - val_mean_absolute_error: 1.9412e-04 - val_mean_squared_error: 1.3932e-07\n",
      "Epoch 89/100\n",
      "80000/80000 [==============================] - 4s 46us/step - loss: 1.7523e-07 - mean_absolute_error: 2.1651e-04 - mean_squared_error: 1.7523e-07 - val_loss: 1.2703e-07 - val_mean_absolute_error: 1.6101e-04 - val_mean_squared_error: 1.2703e-07\n",
      "Epoch 90/100\n",
      "80000/80000 [==============================] - 4s 46us/step - loss: 2.0159e-07 - mean_absolute_error: 2.0924e-04 - mean_squared_error: 2.0159e-07 - val_loss: 1.2144e-07 - val_mean_absolute_error: 1.2270e-04 - val_mean_squared_error: 1.2144e-07\n",
      "Epoch 91/100\n",
      "80000/80000 [==============================] - 4s 45us/step - loss: 1.6341e-07 - mean_absolute_error: 2.2669e-04 - mean_squared_error: 1.6341e-07 - val_loss: 2.1641e-07 - val_mean_absolute_error: 3.4239e-04 - val_mean_squared_error: 2.1641e-07\n",
      "Epoch 92/100\n",
      "80000/80000 [==============================] - 4s 45us/step - loss: 1.6512e-07 - mean_absolute_error: 2.1358e-04 - mean_squared_error: 1.6512e-07 - val_loss: 1.5332e-07 - val_mean_absolute_error: 2.3202e-04 - val_mean_squared_error: 1.5332e-07\n",
      "Epoch 93/100\n",
      "80000/80000 [==============================] - 4s 45us/step - loss: 1.6327e-07 - mean_absolute_error: 2.1831e-04 - mean_squared_error: 1.6327e-07 - val_loss: 1.2499e-07 - val_mean_absolute_error: 1.7283e-04 - val_mean_squared_error: 1.2499e-07\n",
      "Epoch 94/100\n",
      "80000/80000 [==============================] - 4s 45us/step - loss: 1.7230e-07 - mean_absolute_error: 2.3340e-04 - mean_squared_error: 1.7230e-07 - val_loss: 1.1653e-07 - val_mean_absolute_error: 1.2503e-04 - val_mean_squared_error: 1.1653e-07\n",
      "Epoch 95/100\n",
      "80000/80000 [==============================] - 4s 46us/step - loss: 1.5747e-07 - mean_absolute_error: 2.1845e-04 - mean_squared_error: 1.5747e-07 - val_loss: 1.1329e-07 - val_mean_absolute_error: 1.3825e-04 - val_mean_squared_error: 1.1329e-07\n",
      "Epoch 96/100\n",
      "80000/80000 [==============================] - 4s 48us/step - loss: 1.6626e-07 - mean_absolute_error: 2.1370e-04 - mean_squared_error: 1.6626e-07 - val_loss: 3.0441e-07 - val_mean_absolute_error: 4.5561e-04 - val_mean_squared_error: 3.0441e-07\n"
     ]
    },
    {
     "name": "stdout",
     "output_type": "stream",
     "text": [
      "Epoch 97/100\n",
      "80000/80000 [==============================] - 4s 44us/step - loss: 1.5845e-07 - mean_absolute_error: 2.0977e-04 - mean_squared_error: 1.5845e-07 - val_loss: 1.7245e-07 - val_mean_absolute_error: 2.8715e-04 - val_mean_squared_error: 1.7245e-07\n",
      "Epoch 98/100\n",
      "80000/80000 [==============================] - 4s 44us/step - loss: 1.4938e-07 - mean_absolute_error: 2.1633e-04 - mean_squared_error: 1.4938e-07 - val_loss: 1.0535e-07 - val_mean_absolute_error: 1.2611e-04 - val_mean_squared_error: 1.0535e-07\n",
      "Epoch 99/100\n",
      "80000/80000 [==============================] - 4s 45us/step - loss: 1.5822e-07 - mean_absolute_error: 2.0881e-04 - mean_squared_error: 1.5822e-07 - val_loss: 1.2136e-07 - val_mean_absolute_error: 1.9691e-04 - val_mean_squared_error: 1.2136e-07\n",
      "Epoch 100/100\n",
      "80000/80000 [==============================] - 4s 44us/step - loss: 1.6244e-07 - mean_absolute_error: 2.0620e-04 - mean_squared_error: 1.6244e-07 - val_loss: 1.0819e-07 - val_mean_absolute_error: 1.2666e-04 - val_mean_squared_error: 1.0819e-07\n"
     ]
    }
   ],
   "source": [
    "early_stopping_monitor = EarlyStopping(patience=20) \n",
    "history_ddm = ddm.fit(X, Z,\n",
    "                      batch_size=32,\n",
    "                      epochs=100,\n",
    "                      validation_data=(Xv,Zv),\n",
    "                      callbacks=[early_stopping_monitor])"
   ]
  },
  {
   "cell_type": "code",
   "execution_count": 11,
   "metadata": {},
   "outputs": [
    {
     "data": {
      "image/png": "[encoded data removed]",
      "text/plain": [
       "<Figure size 432x288 with 1 Axes>"
      ]
     },
     "metadata": {},
     "output_type": "display_data"
    }
   ],
   "source": [
    "plt.plot(history_ddm.history['mean_squared_error'][5:])\n",
    "plt.plot(history_ddm.history['val_mean_squared_error'][5:])\n",
    "plt.legend(['train', 'validation'])\n",
    "plt.xlabel('epoch')\n",
    "plt.ylabel('Mean squared error')\n",
    "plt.title('Training history of creating the DDM model')\n",
    "plt.show()"
   ]
  },
  {
   "cell_type": "code",
   "execution_count": 13,
   "metadata": {},
   "outputs": [
    {
     "name": "stdout",
     "output_type": "stream",
     "text": [
      "_________________________________________________________________\n",
      "Layer (type)                 Output Shape              Param #   \n",
      "=================================================================\n",
      "dense_5 (Dense)              (None, 20)                420       \n",
      "_________________________________________________________________\n",
      "dense_6 (Dense)              (None, 80)                1680      \n",
      "_________________________________________________________________\n",
      "leaky_re_lu_1 (LeakyReLU)    (None, 80)                0         \n",
      "_________________________________________________________________\n",
      "dense_7 (Dense)              (None, 80)                6480      \n",
      "_________________________________________________________________\n",
      "leaky_re_lu_2 (LeakyReLU)    (None, 80)                0         \n",
      "_________________________________________________________________\n",
      "dense_8 (Dense)              (None, 80)                6480      \n",
      "_________________________________________________________________\n",
      "leaky_re_lu_3 (LeakyReLU)    (None, 80)                0         \n",
      "_________________________________________________________________\n",
      "dense_9 (Dense)              (None, 80)                6480      \n",
      "_________________________________________________________________\n",
      "leaky_re_lu_4 (LeakyReLU)    (None, 80)                0         \n",
      "_________________________________________________________________\n",
      "dense_10 (Dense)             (None, 20)                1620      \n",
      "=================================================================\n",
      "Total params: 23,160\n",
      "Trainable params: 23,160\n",
      "Non-trainable params: 0\n",
      "_________________________________________________________________\n",
      "None\n"
     ]
    }
   ],
   "source": [
    "print(ham.summary())\n",
    "ham.save('ham.h5')\n",
    "ddm.save('ddm.h5')"
   ]
  },
  {
   "cell_type": "markdown",
   "metadata": {},
   "source": [
    "# Verify against test cases"
   ]
  },
  {
   "cell_type": "code",
   "execution_count": 14,
   "metadata": {},
   "outputs": [],
   "source": [
    "import IFEM_CoSTA\n",
    "import splipy as sp\n",
    "from keras.models import load_model\n",
    "from os import listdir\n",
    "from tqdm import tqdm"
   ]
  },
  {
   "cell_type": "code",
   "execution_count": null,
   "metadata": {},
   "outputs": [],
   "source": [
    "ham = load_model('ham.h5')\n",
    "ddm = load_model('ddm.h5')"
   ]
  },
  {
   "cell_type": "code",
   "execution_count": 15,
   "metadata": {},
   "outputs": [],
   "source": [
    "spline = sp.Curve()\n",
    "# spline.raise_order(1)\n",
    "# spline.refine(17) # for a grand total of 20 controlpoints with p=2\n",
    "spline.refine(18) # for a grand total of 20 controlpoints with p=1\n",
    "spline = spline.set_dimension(1)"
   ]
  },
  {
   "cell_type": "code",
   "execution_count": 17,
   "metadata": {
    "scrolled": true
   },
   "outputs": [
    {
     "name": "stderr",
     "output_type": "stream",
     "text": [
      "100%|██████████| 5000/5000 [00:18<00:00, 270.65it/s]\n"
     ]
    },
    {
     "data": {
      "image/png": "[encoded data removed]",
      "text/plain": [
       "<Figure size 864x432 with 1 Axes>"
      ]
     },
     "metadata": {},
     "output_type": "display_data"
    },
    {
     "name": "stderr",
     "output_type": "stream",
     "text": [
      "100%|██████████| 5000/5000 [00:18<00:00, 266.41it/s]\n"
     ]
    },
    {
     "data": {
      "image/png": "[encoded data removed]",
      "text/plain": [
       "<Figure size 864x432 with 1 Axes>"
      ]
     },
     "metadata": {},
     "output_type": "display_data"
    },
    {
     "name": "stderr",
     "output_type": "stream",
     "text": [
      "  3%|▎         | 128/5000 [00:00<00:19, 249.61it/s]\n"
     ]
    },
    {
     "ename": "KeyboardInterrupt",
     "evalue": "",
     "output_type": "error",
     "traceback": [
      "\u001b[0;31m---------------------------------------------------------------------------\u001b[0m",
      "\u001b[0;31mKeyboardInterrupt\u001b[0m                         Traceback (most recent call last)",
      "\u001b[0;32m<ipython-input-17-df2f330de368>\u001b[0m in \u001b[0;36m<module>\u001b[0;34m\u001b[0m\n\u001b[1;32m     29\u001b[0m \u001b[0;34m\u001b[0m\u001b[0m\n\u001b[1;32m     30\u001b[0m         \u001b[0;31m# create a predictor step for ham\u001b[0m\u001b[0;34m\u001b[0m\u001b[0;34m\u001b[0m\u001b[0;34m\u001b[0m\u001b[0m\n\u001b[0;32m---> 31\u001b[0;31m         \u001b[0mu_ham_pred\u001b[0m \u001b[0;34m=\u001b[0m \u001b[0mpbm\u001b[0m\u001b[0;34m.\u001b[0m\u001b[0mpredict\u001b[0m\u001b[0;34m(\u001b[0m\u001b[0mmu\u001b[0m\u001b[0;34m,\u001b[0m \u001b[0mu_ham_prev\u001b[0m\u001b[0;34m)\u001b[0m\u001b[0;34m\u001b[0m\u001b[0;34m\u001b[0m\u001b[0m\n\u001b[0m\u001b[1;32m     32\u001b[0m \u001b[0;34m\u001b[0m\u001b[0m\n\u001b[1;32m     33\u001b[0m         \u001b[0;31m# create a correction term for ham\u001b[0m\u001b[0;34m\u001b[0m\u001b[0;34m\u001b[0m\u001b[0;34m\u001b[0m\u001b[0m\n",
      "\u001b[0;31mKeyboardInterrupt\u001b[0m: "
     ]
    }
   ],
   "source": [
    "alphas = [-.5, .7, 1.5, 2.5  ]\n",
    "for alpha in alphas:\n",
    "# for myfile in listdir('test'):\n",
    "    # if myfile[0] != 'X': continue\n",
    "    # alpha = int(myfile[3:-4])/10\n",
    "    \n",
    "    # X  = np.load(f'test/{myfile}')\n",
    "\n",
    "    pbm   = IFEM_CoSTA.HeatEquation('pbm.xinp')\n",
    "    exact = IFEM_CoSTA.HeatEquation('P1.xinp')\n",
    "    mu    = {'dt':0.001, 't':0.0, 'ALPHA':alpha}\n",
    "    u_pbm_prev = pbm.initial_condition(mu)\n",
    "    u_ddm_prev = pbm.initial_condition(mu)\n",
    "    u_ham_prev = pbm.initial_condition(mu)\n",
    "    u_exact_prev = exact.initial_condition(mu)\n",
    "    sigma = [0.0]*pbm.ndof\n",
    "    zeros = [0.0]*pbm.ndof\n",
    "    \n",
    "    # reshape data to fit into tensorflow\n",
    "    u_ddm_prev = np.array(u_ddm_prev, ndmin=2)\n",
    "                                                                               \n",
    "    # run time iterations\n",
    "    for n in tqdm(range(5000)):\n",
    "        # update values\n",
    "        mu['t'] += mu['dt']\n",
    "        \n",
    "        # fetch the boundary conditions\n",
    "        ud = pbm.initial_condition(mu)\n",
    "        \n",
    "        # create a predictor step for ham\n",
    "        u_ham_pred = pbm.predict(mu, u_ham_prev)\n",
    "\n",
    "        # create a correction term for ham\n",
    "        sigma = ham.predict(np.array(u_ham_pred, ndmin=2)).flatten()\n",
    "                                          \n",
    "        # update the next step with a corrector\n",
    "        u_exact_prev     = exact.anasol(mu)['primary']\n",
    "        u_pbm_prev       = pbm.correct(mu, u_pbm_prev, zeros)\n",
    "        u_ham_prev       = pbm.correct(mu, u_ham_prev, sigma)\n",
    "        u_ddm_prev       = ddm.predict(u_ddm_prev)\n",
    "        # u_ddm_prev[0,0]  = ud[0]\n",
    "        # u_ddm_prev[0,-1] = ud[-1]\n",
    "\n",
    "        \n",
    "    plt.figure(figsize=(12,6))\n",
    "    \n",
    "    x = np.linspace(0,1,100)\n",
    "    N = spline.bases[0](x)\n",
    "    plt.plot((N@u_exact_prev).T, 'k-', linewidth=3)\n",
    "    plt.plot((N@u_ham_prev).T, 'go-')\n",
    "    plt.plot((N@u_ddm_prev.flatten()).T, 'r-')\n",
    "    plt.plot((N@u_pbm_prev).T, 'b-')\n",
    "    plt.legend(['exact', 'HAM', 'DDM', 'PBM'])\n",
    "    # plt.legend(['PBM', 'HAM', 'exact'])\n",
    "    plt.title(f'Solution for alpha={alpha} n=5001')\n",
    "    plt.show()\n"
   ]
  },
  {
   "cell_type": "code",
   "execution_count": null,
   "metadata": {},
   "outputs": [],
   "source": []
  }
 ],
 "metadata": {
  "kernelspec": {
   "display_name": "Python 3",
   "language": "python",
   "name": "python3"
  },
  "language_info": {
   "codemirror_mode": {
    "name": "ipython",
    "version": 3
   },
   "file_extension": ".py",
   "mimetype": "text/x-python",
   "name": "python",
   "nbconvert_exporter": "python",
   "pygments_lexer": "ipython3",
   "version": "3.6.9"
  }
 },
 "nbformat": 4,
 "nbformat_minor": 2
}
